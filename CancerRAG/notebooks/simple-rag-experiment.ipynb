{
 "cells": [
  {
   "cell_type": "code",
   "execution_count": 112,
   "metadata": {},
   "outputs": [],
   "source": [
    "import warnings\n",
    "warnings.filterwarnings(\"ignore\")\n",
    "\n",
    "import os \n",
    "from pathlib import Path \n",
    "from langchain_ollama import OllamaEmbeddings\n",
    "import pandas as pd\n",
    "import matplotlib.pyplot as plt \n",
    "\n",
    "import faiss\n",
    "from langchain_community.vectorstores import FAISS\n",
    "from langchain_community.docstore.in_memory import InMemoryDocstore\n",
    "from langchain_huggingface import HuggingFaceEmbeddings\n",
    "from langchain_core.documents import Document\n",
    "from langchain_ollama import ChatOllama\n",
    "from langchain_core.prompts import ChatPromptTemplate\n",
    "from pydantic import BaseModel, Field\n",
    "import torch\n",
    "import re"
   ]
  },
  {
   "cell_type": "code",
   "execution_count": 5,
   "metadata": {},
   "outputs": [],
   "source": [
    "data_dir = Path.cwd().parent / 'data'\n",
    "file_name = 'prelim_data_extracted.csv'"
   ]
  },
  {
   "cell_type": "code",
   "execution_count": 6,
   "metadata": {},
   "outputs": [
    {
     "data": {
      "text/html": [
       "<div>\n",
       "<style scoped>\n",
       "    .dataframe tbody tr th:only-of-type {\n",
       "        vertical-align: middle;\n",
       "    }\n",
       "\n",
       "    .dataframe tbody tr th {\n",
       "        vertical-align: top;\n",
       "    }\n",
       "\n",
       "    .dataframe thead th {\n",
       "        text-align: right;\n",
       "    }\n",
       "</style>\n",
       "<table border=\"1\" class=\"dataframe\">\n",
       "  <thead>\n",
       "    <tr style=\"text-align: right;\">\n",
       "      <th></th>\n",
       "      <th>Question</th>\n",
       "      <th>Answer</th>\n",
       "    </tr>\n",
       "  </thead>\n",
       "  <tbody>\n",
       "    <tr>\n",
       "      <th>0</th>\n",
       "      <td>What is radiation therapy?</td>\n",
       "      <td>Radiation therapy (also called radiotherapy) i...</td>\n",
       "    </tr>\n",
       "    <tr>\n",
       "      <th>1</th>\n",
       "      <td>How is radiation therapy given?</td>\n",
       "      <td>Radiation therapy can be external beam or inte...</td>\n",
       "    </tr>\n",
       "    <tr>\n",
       "      <th>2</th>\n",
       "      <td>Who gets radiation therapy?</td>\n",
       "      <td>Many people with cancer need treatment with ra...</td>\n",
       "    </tr>\n",
       "    <tr>\n",
       "      <th>3</th>\n",
       "      <td>What does radiation therapy do to cancer cells?</td>\n",
       "      <td>Given in high doses, radiation kills or slows ...</td>\n",
       "    </tr>\n",
       "    <tr>\n",
       "      <th>4</th>\n",
       "      <td>How long does radiation therapy take to work?</td>\n",
       "      <td>Radiation therapy does not kill cancer cells r...</td>\n",
       "    </tr>\n",
       "  </tbody>\n",
       "</table>\n",
       "</div>"
      ],
      "text/plain": [
       "                                          Question  \\\n",
       "0                       What is radiation therapy?   \n",
       "1                  How is radiation therapy given?   \n",
       "2                      Who gets radiation therapy?   \n",
       "3  What does radiation therapy do to cancer cells?   \n",
       "4    How long does radiation therapy take to work?   \n",
       "\n",
       "                                              Answer  \n",
       "0  Radiation therapy (also called radiotherapy) i...  \n",
       "1  Radiation therapy can be external beam or inte...  \n",
       "2  Many people with cancer need treatment with ra...  \n",
       "3  Given in high doses, radiation kills or slows ...  \n",
       "4  Radiation therapy does not kill cancer cells r...  "
      ]
     },
     "execution_count": 6,
     "metadata": {},
     "output_type": "execute_result"
    }
   ],
   "source": [
    "data = pd.read_csv(data_dir / file_name)\n",
    "data.head()"
   ]
  },
  {
   "cell_type": "markdown",
   "metadata": {},
   "source": [
    "## Some Text Analysis"
   ]
  },
  {
   "cell_type": "code",
   "execution_count": 7,
   "metadata": {},
   "outputs": [
    {
     "name": "stdout",
     "output_type": "stream",
     "text": [
      "Total Questions in DataFrame: 115\n",
      "Unique Questions in DataFrame: 105\n"
     ]
    }
   ],
   "source": [
    "# Check if all the Questions are Unique \n",
    "print(\"Total Questions in DataFrame:\", data.shape[0])\n",
    "print(\"Unique Questions in DataFrame:\", data.Question.unique().shape[0])"
   ]
  },
  {
   "cell_type": "code",
   "execution_count": 8,
   "metadata": {},
   "outputs": [
    {
     "data": {
      "text/html": [
       "<div>\n",
       "<style scoped>\n",
       "    .dataframe tbody tr th:only-of-type {\n",
       "        vertical-align: middle;\n",
       "    }\n",
       "\n",
       "    .dataframe tbody tr th {\n",
       "        vertical-align: top;\n",
       "    }\n",
       "\n",
       "    .dataframe thead th {\n",
       "        text-align: right;\n",
       "    }\n",
       "</style>\n",
       "<table border=\"1\" class=\"dataframe\">\n",
       "  <thead>\n",
       "    <tr style=\"text-align: right;\">\n",
       "      <th></th>\n",
       "      <th>Question</th>\n",
       "      <th>Answer</th>\n",
       "    </tr>\n",
       "  </thead>\n",
       "  <tbody>\n",
       "    <tr>\n",
       "      <th>54</th>\n",
       "      <td>Who will be involved in this procedure?</td>\n",
       "      <td>Most facilities rely on a specially trained te...</td>\n",
       "    </tr>\n",
       "    <tr>\n",
       "      <th>55</th>\n",
       "      <td>What equipment is used?</td>\n",
       "      <td>A medical linear accelerator (LINAC) generates...</td>\n",
       "    </tr>\n",
       "    <tr>\n",
       "      <th>56</th>\n",
       "      <td>Who operates the equipment?</td>\n",
       "      <td>The radiation therapist operates the equipment...</td>\n",
       "    </tr>\n",
       "    <tr>\n",
       "      <th>57</th>\n",
       "      <td>Is there any special preparation needed for th...</td>\n",
       "      <td>Before planning treatment, a physical examinat...</td>\n",
       "    </tr>\n",
       "    <tr>\n",
       "      <th>58</th>\n",
       "      <td>How is the procedure performed?</td>\n",
       "      <td>IMRT often requires multiple (fractionated) tr...</td>\n",
       "    </tr>\n",
       "    <tr>\n",
       "      <th>59</th>\n",
       "      <td>What will I feel during and after the procedure?</td>\n",
       "      <td>As with other external beam radiation therapy ...</td>\n",
       "    </tr>\n",
       "    <tr>\n",
       "      <th>61</th>\n",
       "      <td>Who will be involved in this procedure?</td>\n",
       "      <td>As with other forms of external beam therapy, ...</td>\n",
       "    </tr>\n",
       "    <tr>\n",
       "      <th>62</th>\n",
       "      <td>What equipment is used?</td>\n",
       "      <td>Proton beam therapy uses special machines, a c...</td>\n",
       "    </tr>\n",
       "    <tr>\n",
       "      <th>63</th>\n",
       "      <td>Who operates the equipment?</td>\n",
       "      <td>With backgrounds in mechanical, electrical, so...</td>\n",
       "    </tr>\n",
       "    <tr>\n",
       "      <th>64</th>\n",
       "      <td>Is there any special preparation needed for th...</td>\n",
       "      <td>Several preparation steps are needed before a ...</td>\n",
       "    </tr>\n",
       "    <tr>\n",
       "      <th>65</th>\n",
       "      <td>How is the procedure performed?</td>\n",
       "      <td>Proton beam therapy is typically performed on ...</td>\n",
       "    </tr>\n",
       "    <tr>\n",
       "      <th>66</th>\n",
       "      <td>What will I feel during and after the procedure?</td>\n",
       "      <td>You should not feel any pain or discomfort dur...</td>\n",
       "    </tr>\n",
       "    <tr>\n",
       "      <th>68</th>\n",
       "      <td>Who will be involved in this procedure?</td>\n",
       "      <td>Radiation therapy requires a treatment team. T...</td>\n",
       "    </tr>\n",
       "    <tr>\n",
       "      <th>69</th>\n",
       "      <td>What equipment is used?</td>\n",
       "      <td>IGRT uses a radiation delivery machine with bu...</td>\n",
       "    </tr>\n",
       "    <tr>\n",
       "      <th>70</th>\n",
       "      <td>Who operates the equipment?</td>\n",
       "      <td>The radiation oncologist will create and super...</td>\n",
       "    </tr>\n",
       "    <tr>\n",
       "      <th>72</th>\n",
       "      <td>How is the procedure performed?</td>\n",
       "      <td>At the start of each treatment, the radiation ...</td>\n",
       "    </tr>\n",
       "  </tbody>\n",
       "</table>\n",
       "</div>"
      ],
      "text/plain": [
       "                                             Question  \\\n",
       "54            Who will be involved in this procedure?   \n",
       "55                            What equipment is used?   \n",
       "56                        Who operates the equipment?   \n",
       "57  Is there any special preparation needed for th...   \n",
       "58                    How is the procedure performed?   \n",
       "59   What will I feel during and after the procedure?   \n",
       "61            Who will be involved in this procedure?   \n",
       "62                            What equipment is used?   \n",
       "63                        Who operates the equipment?   \n",
       "64  Is there any special preparation needed for th...   \n",
       "65                    How is the procedure performed?   \n",
       "66   What will I feel during and after the procedure?   \n",
       "68            Who will be involved in this procedure?   \n",
       "69                            What equipment is used?   \n",
       "70                        Who operates the equipment?   \n",
       "72                    How is the procedure performed?   \n",
       "\n",
       "                                               Answer  \n",
       "54  Most facilities rely on a specially trained te...  \n",
       "55  A medical linear accelerator (LINAC) generates...  \n",
       "56  The radiation therapist operates the equipment...  \n",
       "57  Before planning treatment, a physical examinat...  \n",
       "58  IMRT often requires multiple (fractionated) tr...  \n",
       "59  As with other external beam radiation therapy ...  \n",
       "61  As with other forms of external beam therapy, ...  \n",
       "62  Proton beam therapy uses special machines, a c...  \n",
       "63  With backgrounds in mechanical, electrical, so...  \n",
       "64  Several preparation steps are needed before a ...  \n",
       "65  Proton beam therapy is typically performed on ...  \n",
       "66  You should not feel any pain or discomfort dur...  \n",
       "68  Radiation therapy requires a treatment team. T...  \n",
       "69  IGRT uses a radiation delivery machine with bu...  \n",
       "70  The radiation oncologist will create and super...  \n",
       "72  At the start of each treatment, the radiation ...  "
      ]
     },
     "execution_count": 8,
     "metadata": {},
     "output_type": "execute_result"
    }
   ],
   "source": [
    "# Filter Question with count > 1\n",
    "# Need to fix these later with Question generation with an LLM\n",
    "question_counts = data.Question.value_counts()\n",
    "duplicate_questions = data[data.Question.isin(question_counts[question_counts > 1].index)]\n",
    "duplicate_questions"
   ]
  },
  {
   "cell_type": "code",
   "execution_count": 9,
   "metadata": {},
   "outputs": [
    {
     "name": "stdout",
     "output_type": "stream",
     "text": [
      "Filtered DataFrame Size: 99\n"
     ]
    }
   ],
   "source": [
    "#Drop the duplicate questions \n",
    "data = data[~data.Question.isin(question_counts[question_counts > 1].index)]\n",
    "print(\"Filtered DataFrame Size:\", data.shape[0])"
   ]
  },
  {
   "cell_type": "code",
   "execution_count": null,
   "metadata": {},
   "outputs": [],
   "source": [
    "data.to_csv(data_dir / 'prelim_data_cleaned.csv', index=False)"
   ]
  },
  {
   "cell_type": "code",
   "execution_count": 10,
   "metadata": {},
   "outputs": [
    {
     "data": {
      "text/html": [
       "<div>\n",
       "<style scoped>\n",
       "    .dataframe tbody tr th:only-of-type {\n",
       "        vertical-align: middle;\n",
       "    }\n",
       "\n",
       "    .dataframe tbody tr th {\n",
       "        vertical-align: top;\n",
       "    }\n",
       "\n",
       "    .dataframe thead th {\n",
       "        text-align: right;\n",
       "    }\n",
       "</style>\n",
       "<table border=\"1\" class=\"dataframe\">\n",
       "  <thead>\n",
       "    <tr style=\"text-align: right;\">\n",
       "      <th></th>\n",
       "      <th>Question</th>\n",
       "      <th>Answer</th>\n",
       "      <th>question_len</th>\n",
       "      <th>answer_len</th>\n",
       "    </tr>\n",
       "  </thead>\n",
       "  <tbody>\n",
       "    <tr>\n",
       "      <th>0</th>\n",
       "      <td>What is radiation therapy?</td>\n",
       "      <td>Radiation therapy (also called radiotherapy) i...</td>\n",
       "      <td>4</td>\n",
       "      <td>48</td>\n",
       "    </tr>\n",
       "    <tr>\n",
       "      <th>1</th>\n",
       "      <td>How is radiation therapy given?</td>\n",
       "      <td>Radiation therapy can be external beam or inte...</td>\n",
       "      <td>5</td>\n",
       "      <td>65</td>\n",
       "    </tr>\n",
       "    <tr>\n",
       "      <th>2</th>\n",
       "      <td>Who gets radiation therapy?</td>\n",
       "      <td>Many people with cancer need treatment with ra...</td>\n",
       "      <td>4</td>\n",
       "      <td>34</td>\n",
       "    </tr>\n",
       "    <tr>\n",
       "      <th>3</th>\n",
       "      <td>What does radiation therapy do to cancer cells?</td>\n",
       "      <td>Given in high doses, radiation kills or slows ...</td>\n",
       "      <td>8</td>\n",
       "      <td>87</td>\n",
       "    </tr>\n",
       "    <tr>\n",
       "      <th>4</th>\n",
       "      <td>How long does radiation therapy take to work?</td>\n",
       "      <td>Radiation therapy does not kill cancer cells r...</td>\n",
       "      <td>8</td>\n",
       "      <td>35</td>\n",
       "    </tr>\n",
       "  </tbody>\n",
       "</table>\n",
       "</div>"
      ],
      "text/plain": [
       "                                          Question  \\\n",
       "0                       What is radiation therapy?   \n",
       "1                  How is radiation therapy given?   \n",
       "2                      Who gets radiation therapy?   \n",
       "3  What does radiation therapy do to cancer cells?   \n",
       "4    How long does radiation therapy take to work?   \n",
       "\n",
       "                                              Answer  question_len  answer_len  \n",
       "0  Radiation therapy (also called radiotherapy) i...             4          48  \n",
       "1  Radiation therapy can be external beam or inte...             5          65  \n",
       "2  Many people with cancer need treatment with ra...             4          34  \n",
       "3  Given in high doses, radiation kills or slows ...             8          87  \n",
       "4  Radiation therapy does not kill cancer cells r...             8          35  "
      ]
     },
     "execution_count": 10,
     "metadata": {},
     "output_type": "execute_result"
    }
   ],
   "source": [
    "# Find Sequence Length Distribution for Questions and Answers\n",
    "def find_sequence_len(x):\n",
    "    return len(x.split(' '))\n",
    "\n",
    "data['question_len'] = data['Question'].apply(lambda x : find_sequence_len(x))\n",
    "data['answer_len'] = data['Answer'].apply(lambda x : find_sequence_len(x))\n",
    "data.head()"
   ]
  },
  {
   "cell_type": "code",
   "execution_count": 11,
   "metadata": {},
   "outputs": [
    {
     "data": {
      "text/plain": [
       "<Axes: >"
      ]
     },
     "execution_count": 11,
     "metadata": {},
     "output_type": "execute_result"
    },
    {
     "data": {
      "image/png": "[encoded data removed]",
      "text/plain": [
       "<Figure size 640x480 with 1 Axes>"
      ]
     },
     "metadata": {},
     "output_type": "display_data"
    }
   ],
   "source": [
    "# Plot Question Sequence Len Histogram Distribution\n",
    "data.question_len.hist(bins=40)"
   ]
  },
  {
   "cell_type": "code",
   "execution_count": 12,
   "metadata": {},
   "outputs": [
    {
     "data": {
      "text/plain": [
       "<Axes: >"
      ]
     },
     "execution_count": 12,
     "metadata": {},
     "output_type": "execute_result"
    },
    {
     "data": {
      "image/png": "[encoded data removed]",
      "text/plain": [
       "<Figure size 640x480 with 1 Axes>"
      ]
     },
     "metadata": {},
     "output_type": "display_data"
    }
   ],
   "source": [
    "# Plot Answer Sequence Len Histogram Distribution\n",
    "data.answer_len.hist(bins=50)"
   ]
  },
  {
   "cell_type": "markdown",
   "metadata": {},
   "source": [
    "- There is no need for chunking to store Questions as they have pretty small sequence length\n",
    "- For Answers, need to figure out how we should embed them. Options can be : Create separate embeddings of the answer or treat all the answers as documents and embed them"
   ]
  },
  {
   "cell_type": "markdown",
   "metadata": {},
   "source": [
    "## Approach 1\n",
    "\n",
    "**Steps**\n",
    "- Create Vector Database on the Questions\n",
    "- Given a user query, fetch the topk relevant questions. \n",
    "- If highly similar questions are found, then return or re-generate their answers\n",
    "- else search in the document database ==> Need to implement later\n",
    "\n",
    "**TODO LATER** : Enhance RAG Architecture with reliable RAG kind of architecture\n"
   ]
  },
  {
   "cell_type": "code",
   "execution_count": 148,
   "metadata": {},
   "outputs": [],
   "source": [
    "class Retriever():\n",
    "    def __init__(self, embedder_config, sim_threshold=0.7, topk=5):\n",
    "        \"\"\"\n",
    "        Initializes the retriever with embedder configuration and vector store.\n",
    "        :param embedder_config: dict containing embedder backend, model, and params\n",
    "        :param sim_threshold: minimum similarity threshold for acceptable results\n",
    "        :param topk: number of top-k similar documents to retrieve\n",
    "        \"\"\"\n",
    "        super().__init__()\n",
    "        # Initialize the device directly here to avoid issues\n",
    "        self.device = torch.device('cuda' if torch.cuda.is_available() else 'cpu')\n",
    "        self.sim_threshold = sim_threshold\n",
    "        self.topk = topk\n",
    "        self.db = pd.DataFrame(columns=[\"Question\", \"Answer\"])\n",
    "        \n",
    "        self.init_embedder(embedder_config)\n",
    "        self.init_vector_store()\n",
    "        print(\"Vector Store Initialized\")\n",
    "    \n",
    "    def init_vector_store(self):\n",
    "        # Create the FAISS index for storing embeddings\n",
    "        embedding_size = len(self.embedder.embed_query(\"hello world\"))  # Example to get embedding size\n",
    "        index = faiss.IndexFlatL2(embedding_size)\n",
    "        \n",
    "        self.vector_store = FAISS(\n",
    "            embedding_function=self.embedder,\n",
    "            index=index,\n",
    "            docstore=InMemoryDocstore(),\n",
    "            index_to_docstore_id={}\n",
    "        )\n",
    "\n",
    "    def init_embedder(self, embedder_config):\n",
    "        \"\"\"\n",
    "        Initializes the embedder based on the provided configuration.\n",
    "        :param embedder_config: dict with backend, model_name, and encode_kwargs\n",
    "        \"\"\"\n",
    "        embedder_params = embedder_config['params']\n",
    "        if embedder_config['backend'] == \"HF\":\n",
    "            self.embedder = HuggingFaceEmbeddings(\n",
    "                model_name=embedder_params['model_name'],\n",
    "                model_kwargs={'device': self.device},\n",
    "                encode_kwargs=embedder_params.get('encode_kwargs', {})\n",
    "            )\n",
    "            print(f\"Embedder Initialized with {embedder_params['model_name']}\")\n",
    "        elif embedder_config['backend'] == \"OLLAMA\":\n",
    "            self.embedder = OllamaEmbeddings(model=embedder_params['model_name'])\n",
    "            print(f\"Embedder Initialized with {embedder_params['model_name']}\")\n",
    "        else:\n",
    "            raise NotImplementedError(\"Embedder backend not supported\")\n",
    "\n",
    "    @staticmethod\n",
    "    def preprocess_text(text):\n",
    "        \"\"\"\n",
    "        Preprocess the input text for embedding by normalizing and cleaning.\n",
    "        :param text: input string to preprocess\n",
    "        :return: cleaned and preprocessed string\n",
    "        \"\"\"\n",
    "        text = text.lower()  # Convert to lowercase\n",
    "        text = re.sub(r'[^\\w\\s]', '', text)  # Remove punctuation\n",
    "        text = re.sub(r'\\s+', ' ', text).strip()  # Remove extra whitespace\n",
    "        return text\n",
    "\n",
    "    def add_documents_from_df(self, df, key):\n",
    "        \"\"\"\n",
    "        Adds documents to the vector store from a DataFrame.\n",
    "        :param df: pandas DataFrame containing Q/A pairs\n",
    "        :param key: column name for the question to embed\n",
    "        \"\"\"\n",
    "        assert key in df.columns, f\"Invalid key. {key} not found in DataFrame.\"\n",
    "        self.db = pd.concat([self.db, df])\n",
    "        self.search_key = key\n",
    "\n",
    "        # Preprocess the text before adding\n",
    "        self.db[self.search_key] = self.db[self.search_key].apply(lambda x: self.preprocess_text(x))\n",
    "\n",
    "        text_list = self.db[self.search_key].tolist()\n",
    "        document_ids = self.db.index.tolist()\n",
    "\n",
    "        documents = []\n",
    "        for text, doc_id in zip(text_list, document_ids):\n",
    "            _ = Document(\n",
    "                page_content=text,\n",
    "                metadata={\"id\" : doc_id}\n",
    "            )\n",
    "            documents.append(_)        \n",
    "        \n",
    "        self.vector_store.add_documents(documents=documents, ids=document_ids)\n",
    "        print(f\"Added {len(documents)} documents to the vector store\")\n",
    "\n",
    "    def _retrieve_topk(self, query, topk=None):\n",
    "        \"\"\"\n",
    "        Retrieve the top-k most similar documents for the given query.\n",
    "        :param query: input query string\n",
    "        :param topk: number of documents to retrieve\n",
    "        :return: list of tuples with document and similarity score\n",
    "        \"\"\"\n",
    "        topk = topk or self.topk  # Use default topk if not provided\n",
    "        query = self.preprocess_text(query)\n",
    "        results = self.vector_store.similarity_search_with_relevance_scores(query, k=topk)\n",
    "        return results\n",
    "\n",
    "    def retrieve(self, query, topk=5, sim_threshold=0.4):\n",
    "        \"\"\"\n",
    "        Retrieve the most relevant documents based on similarity threshold.\n",
    "        :param query: input query string\n",
    "        :param topk: number of top-k similar documents to retrieve\n",
    "        :param sim_threshold: similarity threshold for filtering results\n",
    "        :return: list of relevant documents\n",
    "        \"\"\"\n",
    "        sim_threshold = sim_threshold or self.sim_threshold\n",
    "        result = self._retrieve_topk(query, topk)\n",
    "\n",
    "        # Filter results by similarity threshold\n",
    "        response_list = []\n",
    "        for doc, score in result:\n",
    "            if score >= sim_threshold:\n",
    "                try:\n",
    "                    ques = doc.page_content\n",
    "                    answer = self.db.iloc[doc.metadata['id']]['Answer']\n",
    "                    response_list.append((ques, answer, score))\n",
    "                except:\n",
    "                    continue\n",
    "            else:\n",
    "                break  # Stop as scores are sorted by similarity\n",
    "        \n",
    "        if len(response_list) == 0:\n",
    "            print(\"No result meets the similarity threshold.\")\n",
    "            return []\n",
    "        return response_list"
   ]
  },
  {
   "cell_type": "code",
   "execution_count": 149,
   "metadata": {},
   "outputs": [
    {
     "name": "stdout",
     "output_type": "stream",
     "text": [
      "Embedder Initialized with sentence-transformers/all-mpnet-base-v2\n",
      "Vector Store Initialized\n",
      "Added 99 documents to the vector store\n"
     ]
    }
   ],
   "source": [
    "embedder_config = {\n",
    "    \"backend\" : \"HF\", \n",
    "    \"params\" : {\n",
    "        \"model_name\" : \"sentence-transformers/all-mpnet-base-v2\",\n",
    "        \"encode_kwargs\" : {'normalize_embeddings': False}\n",
    "    }\n",
    "}\n",
    "\n",
    "retriever = Retriever(embedder_config=embedder_config)\n",
    "retriever.add_documents_from_df(df=data, key=\"Question\")"
   ]
  },
  {
   "cell_type": "code",
   "execution_count": 111,
   "metadata": {},
   "outputs": [
    {
     "data": {
      "text/plain": [
       "[('what does radiation therapy do to cancer cells',\n",
       "  'Given in high doses, radiation kills or slows the growth of cancer cells. Radiation therapy is used to: \\n1. Treat cancer. Radiation can be used to cure cancer, to prevent it from returning, or to stop or slow its growth. \\n\\n2. Reduce symptoms. When a cure is not possible, radiation may be used to treat pain and other problems caused by the cancer tumor. Or, it can prevent problems that may be caused by a growing tumor, such as blindness or loss of bowel and bladder control.',\n",
       "  0.8568510317981743),\n",
       " ('what does radiation therapy do to healthy cells',\n",
       "  'Radiation not only kills or slows the growth of cancer cells, it can also affect nearby healthy cells. The healthy cells almost always recover after treatment is over. But sometimes people may have side effects that are severe or do not get better. Other side effects may show up months or years after radiation therapy is over. These are called late side effects. \\n\\nDoctors try to protect healthy cells during treatment by: \\n1. Using as low a dose of radiation as possible. The radiation dose is balanced between being high enough to kill cancer cells, yet low enough to limit damage to healthy cells. \\n\\n2. Spreading out treatment over time. You may get radiation therapy once a day, or in smaller doses twice a day for several weeks. Spreading out the radiation dose allows normal cells to recover while cancer cells die. \\n\\n3. Aiming radiation at a precise part of your body. Some types of radiation therapy allow your doctor to aim high doses of radiation at your cancer while reducing radiation to nearby healthy tissue. These techniques use a computer to deliver precise radiation doses to a cancer tumor or to specific areas within the tumor.',\n",
       "  0.7262991244135274)]"
      ]
     },
     "execution_count": 111,
     "metadata": {},
     "output_type": "execute_result"
    }
   ],
   "source": [
    "retriever.retrieve(query=\"Can you please explain what does radiation therapy do to cancer cells?\")"
   ]
  },
  {
   "cell_type": "code",
   "execution_count": 88,
   "metadata": {},
   "outputs": [
    {
     "data": {
      "text/plain": [
       "[(Document(metadata={}, page_content='what is external beam radiation therapy'),\n",
       "  0.7004721678487792)]"
      ]
     },
     "execution_count": 88,
     "metadata": {},
     "output_type": "execute_result"
    }
   ],
   "source": [
    "retriever.retrieve(query=\"How external beam therapy is useful for treating cancer?\")"
   ]
  },
  {
   "cell_type": "code",
   "execution_count": 89,
   "metadata": {},
   "outputs": [
    {
     "name": "stdout",
     "output_type": "stream",
     "text": [
      "No result meets the similarity threshold.\n"
     ]
    },
    {
     "data": {
      "text/plain": [
       "[]"
      ]
     },
     "execution_count": 89,
     "metadata": {},
     "output_type": "execute_result"
    }
   ],
   "source": [
    "retriever.retrieve(query=\"What kind of treatments are suggested for lymphoma cancer?\")"
   ]
  },
  {
   "cell_type": "code",
   "execution_count": 90,
   "metadata": {},
   "outputs": [
    {
     "name": "stdout",
     "output_type": "stream",
     "text": [
      "No result meets the similarity threshold.\n"
     ]
    },
    {
     "data": {
      "text/plain": [
       "[]"
      ]
     },
     "execution_count": 90,
     "metadata": {},
     "output_type": "execute_result"
    }
   ],
   "source": [
    "retriever.retrieve(query=\"What kind of treatments do you prescribe for prostrate cancer?\")"
   ]
  },
  {
   "cell_type": "code",
   "execution_count": 91,
   "metadata": {},
   "outputs": [
    {
     "data": {
      "text/plain": [
       "[(Document(metadata={}, page_content='what are possible risks and complications of radiation therapy in head and neck cancer'),\n",
       "  0.7818365113850902),\n",
       " (Document(metadata={}, page_content='what are possible side effects of radiation therapy for head and neck cancer'),\n",
       "  0.7247160466366096),\n",
       " (Document(metadata={}, page_content='what happens during radiation therapy for head and neck cancer'),\n",
       "  0.7147979448779048)]"
      ]
     },
     "execution_count": 91,
     "metadata": {},
     "output_type": "execute_result"
    }
   ],
   "source": [
    "retriever.retrieve(query=\"Is radiation treatment good for head and neck cancer?\")"
   ]
  },
  {
   "cell_type": "code",
   "execution_count": 92,
   "metadata": {},
   "outputs": [
    {
     "data": {
      "text/plain": [
       "[(Document(metadata={}, page_content='what happens during radiation therapy for anal cancer'),\n",
       "  0.8671408476873211),\n",
       " (Document(metadata={}, page_content='what are possible side effects risks and complications of radiation therapy in anal cancer'),\n",
       "  0.819258276709428),\n",
       " (Document(metadata={}, page_content='what kind of treatment followup should i expect for radiation therapy of anal cancer'),\n",
       "  0.7396518360776578)]"
      ]
     },
     "execution_count": 92,
     "metadata": {},
     "output_type": "execute_result"
    }
   ],
   "source": [
    "retriever.retrieve(query=\"what will happen to me during anal cancer radiation therapy?\")"
   ]
  },
  {
   "cell_type": "code",
   "execution_count": 93,
   "metadata": {},
   "outputs": [
    {
     "data": {
      "text/plain": [
       "[(Document(metadata={}, page_content='what are possible side effects risks and complications of radiation therapy in anal cancer'),\n",
       "  0.9392778657753088),\n",
       " (Document(metadata={}, page_content='what happens during radiation therapy for anal cancer'),\n",
       "  0.8680842943545253),\n",
       " (Document(metadata={}, page_content='how effective is modern radiation treatment of anal cancer'),\n",
       "  0.7501327247045286),\n",
       " (Document(metadata={}, page_content='what kind of treatment followup should i expect for radiation therapy of anal cancer'),\n",
       "  0.7461160668211676)]"
      ]
     },
     "execution_count": 93,
     "metadata": {},
     "output_type": "execute_result"
    }
   ],
   "source": [
    "retriever.retrieve(query=\"What are the side effects for radiation treatment for anal cancer?\")"
   ]
  },
  {
   "cell_type": "code",
   "execution_count": 188,
   "metadata": {},
   "outputs": [],
   "source": [
    "class Answer(BaseModel):\n",
    "    \"\"\"Generated response to a user's query based on retrieved context.\"\"\"\n",
    "    answer: str = Field(description=\"The generated answer based on the retrieved context and user query.\")\n",
    "\n",
    "\n",
    "# The generator class using the above Langchain structure\n",
    "class OllamaGenerator:\n",
    "    def __init__(self, model_name='llama3.1:8b'):\n",
    "        \"\"\"\n",
    "        Initializes the OllamaGenerator with a specified model and fallback message.\n",
    "        :param model_name: name of the Ollama model to use for generation.\n",
    "        :param fallback_message: default message if no confident answer can be generated.\n",
    "        \"\"\"\n",
    "        self.model_name = model_name\n",
    "        llm = ChatOllama(model=self.model_name, temperature=0.4)\n",
    "        structured_llm = llm.with_structured_output(Answer)\n",
    "        prompt = self.init_prompt()\n",
    "        self.generation_chain = prompt | structured_llm \n",
    "\n",
    "    \n",
    "    def init_prompt(self):\n",
    "        system_message = (\n",
    "            \"system\",\n",
    "            \"\"\"\n",
    "            You are a highly accurate medical assistant. Based on the provided CONTEXT, generate a concise and accurate answer to the USER_QUERY.\n",
    "            Ensure the answer is precise, relevant, and does not hallucinate. If the CONTEXT does not provide sufficient information, return 'No answer available.'\n",
    "            \"\"\"\n",
    "        )\n",
    "\n",
    "\n",
    "        prompt = ChatPromptTemplate.from_messages(\n",
    "            [   \n",
    "                system_message,\n",
    "                (\n",
    "                    \"human\", \n",
    "                    \"\"\"\n",
    "                    CONTEXT: {context}\n",
    "                    USER_QUERY: {user_query}\n",
    "                    \"\"\"\n",
    "                ),\n",
    "            ]\n",
    "        )\n",
    "        return prompt\n",
    "    \n",
    "    def generate(self, retrieved_context, user_query):\n",
    "        \"\"\"\n",
    "        Generate a response using Ollama ChatLLM based on retrieved context and user query.\n",
    "        :param retrieved_context: The context (retrieved answers) provided from the retriever.\n",
    "        :param user_query: The original user query for which an answer is being generated.\n",
    "        :return: Generated response or fallback message.\n",
    "        \"\"\"\n",
    "        if not retrieved_context or all(ctx[1].strip() == '' for ctx in retrieved_context):\n",
    "            # If no context is provided or all retrieved answers are empty\n",
    "            return \"No answer available.\"\n",
    "\n",
    "        # Combine all the retrieved answers into a single string for the model prompt\n",
    "        context_text = \"\\n\".join([f\"Q: {ctx[0]}\\nA: {ctx[1]}\" for ctx in retrieved_context])\n",
    "        \n",
    "        # Prepare input for the prompt template\n",
    "        inputs = {\n",
    "            \"context\": context_text,\n",
    "            \"user_query\": user_query\n",
    "        }\n",
    "\n",
    "        # Execute the generation chain\n",
    "        response = self.generation_chain.invoke(inputs)\n",
    "\n",
    "        # Return the generated answer, or fallback if no response\n",
    "        return response.answer if response else \"No answer available.\"\n"
   ]
  },
  {
   "cell_type": "code",
   "execution_count": 189,
   "metadata": {},
   "outputs": [
    {
     "name": "stdout",
     "output_type": "stream",
     "text": [
      "Embedder Initialized with sentence-transformers/all-mpnet-base-v2\n",
      "Vector Store Initialized\n",
      "Added 99 documents to the vector store\n"
     ]
    }
   ],
   "source": [
    "embedder_config = {\n",
    "    \"backend\" : \"HF\", \n",
    "    \"params\" : {\n",
    "        \"model_name\" : \"sentence-transformers/all-mpnet-base-v2\",\n",
    "        \"encode_kwargs\" : {'normalize_embeddings': False}\n",
    "    }\n",
    "}\n",
    "\n",
    "retriever = Retriever(embedder_config=embedder_config)\n",
    "retriever.add_documents_from_df(df=data, key=\"Question\")\n",
    "generator = OllamaGenerator(model_name='llama3.1:70b')"
   ]
  },
  {
   "cell_type": "code",
   "execution_count": 190,
   "metadata": {},
   "outputs": [
    {
     "name": "stdout",
     "output_type": "stream",
     "text": [
      "after i have finished radiation therapy what symptoms should i look for 0.7747781786649709\n",
      "what happens when radiation therapy is over 0.587280357704951\n",
      "what happens during radiation therapy for breast cancer 0.5634948258946766\n",
      "does radiation therapy hurt 0.5538839957350403\n",
      "Generating Answer...\n",
      "After finishing radiation therapy, look for symptoms such as pain that does not go away, new lumps or swellings, appetite changes, nausea, vomiting, diarrhea, constipation, weight loss, fever, cough, or hoarseness that does not go away. Report any of these symptoms to your doctor or nurse.\n"
     ]
    }
   ],
   "source": [
    "user_query = \"What are the post radiation therapy symptoms?\"\n",
    "\n",
    "retrieved_context = retriever.retrieve(query=user_query)\n",
    "for result in retrieved_context:\n",
    "    print(result[0], result[2])\n",
    "\n",
    "print(\"Generating Answer...\")\n",
    "\n",
    "response = generator.generate(retrieved_context, user_query)\n",
    "print(response)"
   ]
  },
  {
   "cell_type": "code",
   "execution_count": 191,
   "metadata": {},
   "outputs": [
    {
     "name": "stdout",
     "output_type": "stream",
     "text": [
      "how can i relax during my treatment sessions 0.5322399031507559\n",
      "what happens during a treatment session 0.4559210642168051\n",
      "Generating Answer...\n",
      "Bring something to keep you busy in the waiting room, such as a book or magazine, crossword puzzles, or knitting. Use headphones to listen to music or recorded books. Meditate, breathe deeply, pray, use imagery, or find other ways to relax.\n"
     ]
    }
   ],
   "source": [
    "user_query = \"Treatment sessions can be really tough. What do you suggest what shall I do for pleasure?\"\n",
    "\n",
    "retrieved_context = retriever.retrieve(query=user_query)\n",
    "for result in retrieved_context:\n",
    "    print(result[0], result[2])\n",
    "\n",
    "print(\"Generating Answer...\")\n",
    "\n",
    "response = generator.generate(retrieved_context, user_query)\n",
    "print(response)"
   ]
  },
  {
   "cell_type": "code",
   "execution_count": 163,
   "metadata": {},
   "outputs": [],
   "source": [
    "# while True: \n",
    "#     user_query = input()\n",
    "\n",
    "#     if user_query == \"exit\":\n",
    "#         break\n",
    "\n",
    "#     retrieved_context = retriever.retrieve(query=user_query)\n",
    "#     for result in retrieved_context:\n",
    "#         print(result[0], result[2])\n",
    "\n",
    "#     print(\"Generating Answer...\")\n",
    "\n",
    "#     response = generator.generate(retrieved_context, user_query)\n",
    "#     print(response)"
   ]
  }
 ],
 "metadata": {
  "kernelspec": {
   "display_name": "Python 3.9.12 ('.venv': venv)",
   "language": "python",
   "name": "python3"
  },
  "language_info": {
   "codemirror_mode": {
    "name": "ipython",
    "version": 3
   },
   "file_extension": ".py",
   "mimetype": "text/x-python",
   "name": "python",
   "nbconvert_exporter": "python",
   "pygments_lexer": "ipython3",
   "version": "3.9.12"
  },
  "orig_nbformat": 4,
  "vscode": {
   "interpreter": {
    "hash": "7e07611189b1792198ccfb17104255956e1e903ed7e83ac798d2f755ad9013bd"
   }
  }
 },
 "nbformat": 4,
 "nbformat_minor": 2
}
