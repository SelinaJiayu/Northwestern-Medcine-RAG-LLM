{
 "cells": [
  {
   "cell_type": "code",
   "execution_count": 1,
   "metadata": {},
   "outputs": [],
   "source": [
    "import warnings\n",
    "warnings.filterwarnings(\"ignore\")\n",
    "\n",
    "import os \n",
    "from pathlib import Path \n",
    "from langchain_ollama import OllamaEmbeddings\n",
    "import pandas as pd\n",
    "import matplotlib.pyplot as plt \n",
    "import numpy as np \n",
    "\n",
    "import faiss\n",
    "from langchain_community.vectorstores import FAISS\n",
    "from langchain_community.docstore.in_memory import InMemoryDocstore\n",
    "from langchain_huggingface import HuggingFaceEmbeddings\n",
    "from langchain_core.documents import Document\n",
    "from langchain_ollama import ChatOllama\n",
    "from langchain_ollama.llms import OllamaLLM\n",
    "from langchain_core.prompts import ChatPromptTemplate\n",
    "from pydantic import BaseModel, Field\n",
    "import torch\n",
    "import re\n",
    "from typing import List\n",
    "from langchain_core.runnables import chain\n",
    "from langchain_core.runnables import RunnablePassthrough\n",
    "import json\n",
    "from langchain.output_parsers import PydanticOutputParser\n",
    "from langchain.schema.runnable.passthrough import RunnableAssign\n",
    "from langchain_core.output_parsers import StrOutputParser\n",
    "\n",
    "import gradio as gr\n",
    "from functools import partial\n",
    "from rich.console import Console\n",
    "from rich.style import Style\n",
    "from rich.theme import Theme\n",
    "\n",
    "console = Console()\n",
    "base_style = Style(color=\"#76B900\", bold=True)\n",
    "pprint = partial(console.print, style=base_style)"
   ]
  },
  {
   "cell_type": "code",
   "execution_count": 2,
   "metadata": {},
   "outputs": [
    {
     "data": {
      "text/html": [
       "<div>\n",
       "<style scoped>\n",
       "    .dataframe tbody tr th:only-of-type {\n",
       "        vertical-align: middle;\n",
       "    }\n",
       "\n",
       "    .dataframe tbody tr th {\n",
       "        vertical-align: top;\n",
       "    }\n",
       "\n",
       "    .dataframe thead th {\n",
       "        text-align: right;\n",
       "    }\n",
       "</style>\n",
       "<table border=\"1\" class=\"dataframe\">\n",
       "  <thead>\n",
       "    <tr style=\"text-align: right;\">\n",
       "      <th></th>\n",
       "      <th>Question</th>\n",
       "      <th>Answer</th>\n",
       "    </tr>\n",
       "  </thead>\n",
       "  <tbody>\n",
       "    <tr>\n",
       "      <th>0</th>\n",
       "      <td>What is radiation therapy?</td>\n",
       "      <td>Radiation therapy (also called radiotherapy) i...</td>\n",
       "    </tr>\n",
       "    <tr>\n",
       "      <th>1</th>\n",
       "      <td>How is radiation therapy given?</td>\n",
       "      <td>Radiation therapy can be external beam or inte...</td>\n",
       "    </tr>\n",
       "    <tr>\n",
       "      <th>2</th>\n",
       "      <td>Who gets radiation therapy?</td>\n",
       "      <td>Many people with cancer need treatment with ra...</td>\n",
       "    </tr>\n",
       "    <tr>\n",
       "      <th>3</th>\n",
       "      <td>What does radiation therapy do to cancer cells?</td>\n",
       "      <td>Given in high doses, radiation kills or slows ...</td>\n",
       "    </tr>\n",
       "    <tr>\n",
       "      <th>4</th>\n",
       "      <td>How long does radiation therapy take to work?</td>\n",
       "      <td>Radiation therapy does not kill cancer cells r...</td>\n",
       "    </tr>\n",
       "  </tbody>\n",
       "</table>\n",
       "</div>"
      ],
      "text/plain": [
       "                                          Question  \\\n",
       "0                       What is radiation therapy?   \n",
       "1                  How is radiation therapy given?   \n",
       "2                      Who gets radiation therapy?   \n",
       "3  What does radiation therapy do to cancer cells?   \n",
       "4    How long does radiation therapy take to work?   \n",
       "\n",
       "                                              Answer  \n",
       "0  Radiation therapy (also called radiotherapy) i...  \n",
       "1  Radiation therapy can be external beam or inte...  \n",
       "2  Many people with cancer need treatment with ra...  \n",
       "3  Given in high doses, radiation kills or slows ...  \n",
       "4  Radiation therapy does not kill cancer cells r...  "
      ]
     },
     "execution_count": 2,
     "metadata": {},
     "output_type": "execute_result"
    }
   ],
   "source": [
    "data_dir = Path.cwd().parent / 'data/data_files'\n",
    "file_name = 'capstone_final_data_v1.csv'\n",
    "data = pd.read_csv(data_dir / file_name)\n",
    "data.head()"
   ]
  },
  {
   "cell_type": "code",
   "execution_count": 3,
   "metadata": {},
   "outputs": [],
   "source": [
    "def init_embedder(embedder_config, device):\n",
    "    embedder_params = embedder_config['params']\n",
    "    if embedder_config['backend'] == \"HF\":\n",
    "        embedder = HuggingFaceEmbeddings(\n",
    "            model_name=embedder_params['model_name'],\n",
    "            model_kwargs={'device': device},\n",
    "            encode_kwargs=embedder_params.get('encode_kwargs', {})\n",
    "        )\n",
    "        print(f\"Embedder Initialized with {embedder_params['model_name']}\")\n",
    "    elif embedder_config['backend'] == \"OLLAMA\":\n",
    "        embedder = OllamaEmbeddings(model=embedder_params['model_name'])\n",
    "        print(f\"Embedder Initialized with {embedder_params['model_name']}\")\n",
    "    else:\n",
    "        raise NotImplementedError(\"Embedder backend not supported\")\n",
    "    return embedder\n",
    "\n",
    "\n",
    "def init_vectorstore(embedder):\n",
    "    # Create the FAISS index for storing embeddings\n",
    "    embedding_size = len(embedder.embed_query(\"hello world\"))  # Example to get embedding size\n",
    "    index = faiss.IndexFlatL2(embedding_size)\n",
    "    \n",
    "    vector_store = FAISS(\n",
    "        embedding_function=embedder,\n",
    "        index=index,\n",
    "        docstore=InMemoryDocstore(),\n",
    "        index_to_docstore_id={}\n",
    "    )\n",
    "    return vector_store\n",
    "\n",
    "def preprocess_text(text):\n",
    "    \"\"\"\n",
    "    Preprocess the input text for embedding by normalizing and cleaning.\n",
    "    :param text: input string to preprocess\n",
    "    :return: cleaned and preprocessed string\n",
    "    \"\"\"\n",
    "    text = text.lower()  # Convert to lowercase\n",
    "    text = re.sub(r'[^\\w\\s]', '', text)  # Remove punctuation\n",
    "    text = re.sub(r'\\s+', ' ', text).strip()  # Remove extra whitespace\n",
    "    return text\n",
    "\n",
    "def create_documents_from_questions(questions, question_ids):\n",
    "    for index in range(len(questions)):\n",
    "        questions[index] = preprocess_text(questions[index])\n",
    "    \n",
    "    documents = []\n",
    "    for text, doc_id in zip(questions, question_ids):\n",
    "        _ = Document(\n",
    "            page_content=text,\n",
    "            metadata={\"id\" : doc_id}\n",
    "        )\n",
    "        documents.append(_)        \n",
    "    return documents"
   ]
  },
  {
   "cell_type": "code",
   "execution_count": 4,
   "metadata": {},
   "outputs": [
    {
     "name": "stdout",
     "output_type": "stream",
     "text": [
      "cuda\n",
      "Embedder Initialized with sentence-transformers/all-mpnet-base-v2\n",
      "325 Documents added to Vector Store\n"
     ]
    }
   ],
   "source": [
    "# Define Configs and Settings For Retrieval\n",
    "SCORE_THRESHOLD = 0.5\n",
    "TOPK=3\n",
    "\n",
    "EMBEDDER_CONFIG = {\n",
    "    \"backend\" : \"HF\", \n",
    "    \"params\" : {\n",
    "        \"model_name\" : \"sentence-transformers/all-mpnet-base-v2\",\n",
    "        \"encode_kwargs\" : {'normalize_embeddings': False}\n",
    "    }\n",
    "}\n",
    "\n",
    "device = torch.device(\"cuda\" if torch.cuda.is_available() else 'cpu')\n",
    "print(device)\n",
    "\n",
    "# Intialize Embedder and VectorStore\n",
    "embedder = init_embedder(embedder_config=EMBEDDER_CONFIG, device=device)\n",
    "vectorstore = init_vectorstore(embedder)\n",
    "\n",
    "\n",
    "# Add Documents to VectorStore\n",
    "documents = create_documents_from_questions(data.Question.tolist(), data.index.tolist())\n",
    "vectorstore.add_documents(documents=documents, ids=data.index.tolist())\n",
    "print(f\"{len(documents)} Documents added to Vector Store\")"
   ]
  },
  {
   "cell_type": "code",
   "execution_count": 31,
   "metadata": {},
   "outputs": [],
   "source": [
    "# Mean Similarity Method. We can use other kind of averaging\n",
    "def calculate_mean_similarity(sims):\n",
    "    if len(sims) == 0:\n",
    "        return -1\n",
    "    return np.mean(np.array(sims))\n",
    "\n",
    "def calculate_max_similarity(sims):\n",
    "    if len(sims) == 0:\n",
    "        return -1\n",
    "    return np.max(np.array(sims))\n",
    "\n",
    "# Define Custom Functions as Runnables to use in retrieval chain\n",
    "@chain\n",
    "def retriever(query: dict) -> List[Document]:\n",
    "    \"\"\"Custom Retriever Logic to filter based on SIM THRESHOLD\"\"\"\n",
    "    query = preprocess_text(query.get('query',''))\n",
    "    docs, scores = zip(*vectorstore.similarity_search_with_relevance_scores(query, k=TOPK))\n",
    "    result = []\n",
    "    for doc, score in zip(docs, scores):\n",
    "        if score > SCORE_THRESHOLD:\n",
    "            doc.metadata[\"score\"] = score\n",
    "            result.append(doc)\n",
    "    return result\n",
    "\n",
    "@chain\n",
    "def format_retrieved_docs(documents: List[Document]) -> str:\n",
    "    \"\"\"Context Formatter\"\"\"\n",
    "    docs = []\n",
    "    for doc in documents:\n",
    "        score = doc.metadata.get('score')\n",
    "        doc_index = doc.metadata.get('id')\n",
    "        answer = data.iloc[doc_index].Answer\n",
    "        docs.append((doc.page_content, answer, score))\n",
    "\n",
    "    context_text = \"\\n\".join([f\"Q: {ctx[0]}\\nA: {ctx[1]}\" for ctx in docs])\n",
    "    #mean_sim = calculate_mean_similarity([ctx[2] for ctx in docs])\n",
    "    max_sim = calculate_max_similarity([ctx[2] for ctx in docs])\n",
    "    return {\"context\" : context_text, \"retrieval_score\" : max_sim}\n",
    "\n",
    "\n",
    "def RExtract(pydantic_class, llm, prompt):\n",
    "    '''\n",
    "    Runnable Extraction module\n",
    "    Returns a knowledge dictionary populated by slot-filling extraction\n",
    "    '''\n",
    "    parser = PydanticOutputParser(pydantic_object=pydantic_class)\n",
    "    instruct_merge = RunnableAssign({'format_instructions' : lambda x: parser.get_format_instructions()})\n",
    "    def preparse(string):\n",
    "        if '{' not in string: string = '{' + string\n",
    "        if '}' not in string: string = string + '}'\n",
    "        string = (string\n",
    "            .replace(\"\\\\_\", \"_\")\n",
    "            .replace(\"\\n\", \" \")\n",
    "            .replace(\"\\]\", \"]\")\n",
    "            .replace(\"\\[\", \"[\")\n",
    "        )\n",
    "        # print(string)  ## Good for diagnostics\n",
    "        return string\n",
    "    return instruct_merge | prompt | llm | preparse | parser"
   ]
  },
  {
   "cell_type": "code",
   "execution_count": 42,
   "metadata": {},
   "outputs": [],
   "source": [
    "class KnowledgeBase(BaseModel):\n",
    "    name: str = Field(\n",
    "        default=\"unknown\", description=\"Name of the user, first name and last name\"\n",
    "    )\n",
    "    age: str = Field(default=\"25\", description=\"Age of the user\")\n",
    "    gender: str = Field(default=\"male\", description=\"Gender of the user\")\n",
    "    education_level : str = Field(default='12th grade', description=\"Highest education level of the user.\")\n",
    "    disease_site : str = Field(default='unknown', description=\"Description of location of Cancer. If specified as general, then it is general cancer\")\n",
    "    query: str = Field(\n",
    "        default=\"unknown\",\n",
    "        description=\"Frame user input into a question format using disease_site and current summary\",\n",
    "    )\n",
    "    summary: str = Field(\n",
    "        \"unknown\",\n",
    "        description=\"Running summary of conversation under 500 words. Create a summary of the conversion using previous chatbot response and user inputs\",\n",
    "    )\n",
    "\n",
    "knowledge_prompt = ChatPromptTemplate.from_template(\n",
    "    \"You are chatting with a user. The user just responded ('input'). Please update the knowledge base.\"\n",
    "    \"Record your response in the 'response' tag to continue the conversation.\"\n",
    "    \"Do not hallucinate any details, and make sure the knowledge base is not redundant.\"\n",
    "    \"Update the entries frequently to adapt to the conversation flow.\"\n",
    "    \"\\n{format_instructions}\"\n",
    "    \"\\n\\nOLD KNOWLEDGE BASE: {know_base}\"\n",
    "    \"\\n\\nOLD CHATBOT RESPONSE : {response}\"\n",
    "    \"\\n\\nNEW MESSAGE: {input}\"\n",
    "    \"\\n\\nNEW KNOWLEDGE BASE:\"\n",
    ")\n",
    "\n",
    "conversation_prompt = ChatPromptTemplate.from_messages([\n",
    "    (\"system\", (\n",
    "        \"You are a chatbot for NU Medicine, and you are providing users cancer treatment assistance.\"\n",
    "        \" Please chat with them! Stay clear and provide detailed answers to Questions as much as possible!\"\n",
    "        \" Your running knowledge base is: {know_base}.\"\n",
    "        \" Your running summary of the conversation is : {summary}. Use this to have a fluent conversation.\\n\"\n",
    "        \" This is for you only; Do not mention it!\"\n",
    "        \" \\nUsing that, we retrieved the following: {context}\\n\"\n",
    "        \"\\nHere is the query that user want to get answered: {query}\\n\"\n",
    "        \"\\nMake sure you provide elaborated and detailed answers using the retrieved context\\n\"\n",
    "        \" Do not ask them any other personal info.\"\n",
    "        \"\\nAdjust tone, complexity, and empathy in responses based on the user's inferred gender, age, and education level for personalized and context-sensitive communication.\\n\"\n",
    "        \"\\ngender:{gender} age:{age} education_level:{education_level}\\n\"\n",
    "    )),\n",
    "    (\"assistant\", \"{output}\"),\n",
    "    (\"user\", \"{input}\"),\n",
    "])"
   ]
  },
  {
   "cell_type": "code",
   "execution_count": 33,
   "metadata": {},
   "outputs": [],
   "source": [
    "llm = OllamaLLM(model='llama3.1:70b', temperature=0.4)\n",
    "instruct_llm = llm \n",
    "extractor = RExtract(KnowledgeBase, instruct_llm, knowledge_prompt)\n",
    "info_update = RunnableAssign({'know_base' : extractor})\n",
    "\n",
    "@chain\n",
    "def extract_query(state):\n",
    "    return state.get('know_base').query\n",
    "\n",
    "@chain\n",
    "def merge_outputs(ret_results):\n",
    "    return {**ret_results[0], **ret_results[1]}\n",
    "\n",
    "ret_chain = retriever | format_retrieved_docs\n",
    "internal_chain = (\n",
    "    info_update\n",
    "    | RunnableAssign({\"query\" : extract_query})\n",
    "    | (lambda x: (x, ret_chain.invoke(x)))\n",
    "    | merge_outputs\n",
    ")"
   ]
  },
  {
   "cell_type": "code",
   "execution_count": 43,
   "metadata": {},
   "outputs": [
    {
     "data": {
      "text/plain": [
       "{'know_base': KnowledgeBase(name='unknown', age='25', gender='male', education_level='12th grade', disease_site='unknown', query='What is the treatment for my condition?', summary='The user has reached out to NU Medicine seeking information on treatment options. They have not specified a particular disease or condition.'),\n",
       " 'response': 'Welcome to NU Medicine. We assure you are at the right place.',\n",
       " 'input': 'What is the treatment?',\n",
       " 'query': 'What is the treatment for my condition?',\n",
       " 'context': '',\n",
       " 'retrieval_score': -1}"
      ]
     },
     "execution_count": 43,
     "metadata": {},
     "output_type": "execute_result"
    }
   ],
   "source": [
    "response_str = \"Welcome to NU Medicine. We assure you are at the right place.\"\n",
    "state = {'know_base' : KnowledgeBase(), 'response' : response_str}\n",
    "#state['input'] = \"What is radiation therapy?\"\n",
    "state['input'] = \"What is the treatment?\"\n",
    "state = internal_chain.invoke(state)\n",
    "state"
   ]
  },
  {
   "cell_type": "code",
   "execution_count": 35,
   "metadata": {},
   "outputs": [],
   "source": [
    "#response_str = data['Answer'].iloc[0]\n",
    "state['response'] = \"Radiation therapy is useful for treating lung cancer. Do you want to know more ?\"\n",
    "state['input'] = \"Yes\"\n",
    "state = internal_chain.invoke(state)"
   ]
  },
  {
   "cell_type": "code",
   "execution_count": 36,
   "metadata": {},
   "outputs": [
    {
     "data": {
      "text/plain": [
       "KnowledgeBase(name='unknown', age='25', gender='male', education_level='12th grade', disease_site='lung', query='What are the details of radiation therapy for lung cancer?', summary='The user has come to NU Medicine seeking information about their condition. They have asked about the treatment options available and specifically wanted to know more about radiation therapy.')"
      ]
     },
     "execution_count": 36,
     "metadata": {},
     "output_type": "execute_result"
    }
   ],
   "source": [
    "state['know_base']"
   ]
  },
  {
   "cell_type": "code",
   "execution_count": 37,
   "metadata": {},
   "outputs": [
    {
     "data": {
      "text/plain": [
       "dict_keys(['know_base', 'response', 'input', 'query', 'context', 'retrieval_score'])"
      ]
     },
     "execution_count": 37,
     "metadata": {},
     "output_type": "execute_result"
    }
   ],
   "source": [
    "state.keys()"
   ]
  },
  {
   "cell_type": "code",
   "execution_count": 38,
   "metadata": {},
   "outputs": [],
   "source": [
    "state['age'] = state['know_base'].age\n",
    "state['gender'] = state['know_base'].gender\n",
    "state['education_level'] = state['know_base'].education_level\n",
    "state['summary'] = state['know_base'].summary"
   ]
  },
  {
   "cell_type": "code",
   "execution_count": 25,
   "metadata": {},
   "outputs": [
    {
     "data": {
      "text/plain": [
       "['age',\n",
       " 'context',\n",
       " 'education_level',\n",
       " 'gender',\n",
       " 'input',\n",
       " 'know_base',\n",
       " 'output',\n",
       " 'query',\n",
       " 'summary']"
      ]
     },
     "execution_count": 25,
     "metadata": {},
     "output_type": "execute_result"
    }
   ],
   "source": [
    "conversation_prompt.input_variables"
   ]
  },
  {
   "cell_type": "code",
   "execution_count": 39,
   "metadata": {},
   "outputs": [],
   "source": [
    "external_chain = (\n",
    "                conversation_prompt \n",
    "                | OllamaLLM(model='llama3.1:70b', temperature=0.4)\n",
    "                )"
   ]
  },
  {
   "cell_type": "code",
   "execution_count": 41,
   "metadata": {},
   "outputs": [
    {
     "data": {
      "text/plain": [
       "\"Hello! I'm here to help you understand more about radiation therapy for lung cancer. \\n\\nRadiation therapy is a treatment option that uses high-energy rays or particles to kill cancer cells. In the case of lung cancer, it can be used as a primary treatment, or in combination with other treatments like chemotherapy or surgery.\\n\\nThere are two main types of radiation therapy: external beam therapy (EBT) and brachytherapy. EBT is the most common type and uses a machine outside the body to direct x-rays or gamma rays at the tumor. Proton therapy is a form of EBT that uses charged atoms instead of x-rays.\\n\\nOn the other hand, brachytherapy involves placing small radioactive sources directly inside or near the tumor. This allows for high doses of radiation to be delivered directly to the cancer cells while minimizing damage to surrounding healthy tissue.\\n\\nWhen it comes to lung cancer specifically, radiation therapy can be used in different ways depending on the stage and location of the disease. In some cases, radiation may be the primary treatment, especially if surgery is not an option due to the tumor's location or size.\\n\\nIn other cases, radiation therapy may be combined with chemotherapy to improve its effectiveness and reduce the chance of the cancer returning. Sometimes, radiation therapy may be given before (neoadjuvant treatment) or after (adjuvant treatment) surgery to help shrink the tumor or eliminate any remaining cancer cells.\\n\\nDuring radiation therapy for lung cancer, high-energy x-rays or particles are directed at the tumor site. These rays affect rapidly dividing cells, like cancer cells, more than normal cells. This means that while some healthy tissue may be damaged, it can usually repair itself and function normally again.\\n\\nThe goal of radiation therapy is to deliver daily doses large enough to kill a significant percentage of the rapidly dividing cancer cells while minimizing damage to surrounding normal tissue cells. \\n\\nIn terms of effectiveness, modern radiation treatment for lung cancer has shown promising results. In early-stage disease that's treated with radiotherapy alone, local control of the tumor is typical. For more advanced disease, combining chemotherapy and radiation can lead to cure rates, although these are lower than in earlier stages.\\n\\nIt's also worth noting that pain relief is an essential part of treating lung cancer. While many effective treatments are available, some patients still don't receive adequate pain relief. If you have concerns about pain management, please let your doctor know so they can provide the best possible care.\\n\\nLastly, if cure is not a possibility, doctors may recommend palliative treatment to relieve symptoms and improve quality of life. This might involve using smaller doses of radiation therapy to minimize side effects.\\n\\nI hope this information helps you understand more about radiation therapy for lung cancer! If you have any further questions or concerns, please don't hesitate to ask.\""
      ]
     },
     "execution_count": 41,
     "metadata": {},
     "output_type": "execute_result"
    }
   ],
   "source": [
    "state['output'] = \"\"\n",
    "external_chain.invoke(state)"
   ]
  }
 ],
 "metadata": {
  "kernelspec": {
   "display_name": "Python 3.9.12 ('.venv': venv)",
   "language": "python",
   "name": "python3"
  },
  "language_info": {
   "codemirror_mode": {
    "name": "ipython",
    "version": 3
   },
   "file_extension": ".py",
   "mimetype": "text/x-python",
   "name": "python",
   "nbconvert_exporter": "python",
   "pygments_lexer": "ipython3",
   "version": "3.9.12"
  },
  "orig_nbformat": 4,
  "vscode": {
   "interpreter": {
    "hash": "4417f8c6e25815638b12b1732e5dad43917d34854e77e0368938d5dc6cf1a5cc"
   }
  }
 },
 "nbformat": 4,
 "nbformat_minor": 2
}
