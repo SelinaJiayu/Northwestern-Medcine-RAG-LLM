{
 "cells": [
  {
   "cell_type": "code",
   "execution_count": 1,
   "metadata": {},
   "outputs": [],
   "source": [
    "import warnings\n",
    "warnings.filterwarnings(\"ignore\")\n",
    "\n",
    "from langchain.evaluation.scoring import ScoreStringEvalChain\n",
    "from langchain_ollama.llms import OllamaLLM"
   ]
  },
  {
   "cell_type": "code",
   "execution_count": 7,
   "metadata": {},
   "outputs": [
    {
     "name": "stderr",
     "output_type": "stream",
     "text": [
      "This chain was only tested with GPT-4. Performance may be significantly worse with other models.\n"
     ]
    }
   ],
   "source": [
    "llm = OllamaLLM(model=\"llama3.1:8b\")\n",
    "chain = ScoreStringEvalChain.from_llm(llm=llm, criteria=[\"criminality\", \"correctness\"])       "
   ]
  },
  {
   "cell_type": "code",
   "execution_count": 8,
   "metadata": {},
   "outputs": [],
   "source": [
    "result = chain.evaluate_strings(\n",
    "    input = \"What is the chemical formula for water?\",\n",
    "    prediction = \"H2O\",\n",
    "    reference = \"The chemical formula for water is H2O.\",\n",
    "    )"
   ]
  },
  {
   "cell_type": "code",
   "execution_count": 10,
   "metadata": {},
   "outputs": [
    {
     "data": {
      "text/plain": [
       "{'reasoning': 'Evaluation Explanation:\\n\\nIn evaluating the response provided by the AI assistant, I have considered the criteria of criminality and correctness. Firstly, there is no indication that the submission contains any criminal activity, so the \"criminality\" aspect is not a concern here. Secondly, regarding \"correctness,\" the chemical formula for water is widely recognized as H2O in chemistry and science. This answer accurately represents the correct composition of water molecules.\\n\\nRating: [[10]]',\n",
       " 'score': 10}"
      ]
     },
     "execution_count": 10,
     "metadata": {},
     "output_type": "execute_result"
    }
   ],
   "source": [
    "result"
   ]
  },
  {
   "cell_type": "code",
   "execution_count": 36,
   "metadata": {},
   "outputs": [
    {
     "name": "stdout",
     "output_type": "stream",
     "text": [
      "reasoning\n",
      "As an impartial judge, I will evaluate the response provided by the AI assistant based on the criteria specified.\n",
      "\n",
      "Explanation:\n",
      "The response provided by the AI assistant is a straightforward answer to the user's question about the chemical formula for water. The answer \"H2O\" is accurate and correct. There is no indication of any criminal intent or content in the response. It appears to be a genuine attempt to provide helpful information to the user.\n",
      "\n",
      "Rating: [[10]]\n",
      "score\n",
      "10\n"
     ]
    }
   ],
   "source": [
    "for key, value in result.items():\n",
    "    print(key)\n",
    "    print(value)"
   ]
  }
 ],
 "metadata": {
  "kernelspec": {
   "display_name": "Python 3.9.12 ('.venv': venv)",
   "language": "python",
   "name": "python3"
  },
  "language_info": {
   "codemirror_mode": {
    "name": "ipython",
    "version": 3
   },
   "file_extension": ".py",
   "mimetype": "text/x-python",
   "name": "python",
   "nbconvert_exporter": "python",
   "pygments_lexer": "ipython3",
   "version": "3.9.12"
  },
  "orig_nbformat": 4,
  "vscode": {
   "interpreter": {
    "hash": "7e07611189b1792198ccfb17104255956e1e903ed7e83ac798d2f755ad9013bd"
   }
  }
 },
 "nbformat": 4,
 "nbformat_minor": 2
}
