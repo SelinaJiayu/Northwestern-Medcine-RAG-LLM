{
 "cells": [
  {
   "cell_type": "code",
   "execution_count": 1,
   "metadata": {},
   "outputs": [],
   "source": [
    "import pandas as pd \n",
    "import os\n",
    "from pathlib import Path"
   ]
  },
  {
   "cell_type": "code",
   "execution_count": 2,
   "metadata": {},
   "outputs": [],
   "source": [
    "data_dir = Path.cwd().parent / \"data/data_files\"\n",
    "file_name = \"Questionair_for_ChatGPT6_2023_09_03.xlsx\""
   ]
  },
  {
   "cell_type": "code",
   "execution_count": 3,
   "metadata": {},
   "outputs": [],
   "source": [
    "dfs = pd.read_excel(data_dir / file_name, sheet_name=None)\n",
    "\n",
    "df1 = dfs['1QnA_General']\n",
    "df2 = dfs['2Treatment_Modalities']\n",
    "df3 = dfs['3Site_Specific_AY']"
   ]
  },
  {
   "cell_type": "markdown",
   "metadata": {},
   "source": [
    "## 1QnA_General"
   ]
  },
  {
   "cell_type": "code",
   "execution_count": 5,
   "metadata": {},
   "outputs": [
    {
     "name": "stdout",
     "output_type": "stream",
     "text": [
      "Data Size : 29\n"
     ]
    },
    {
     "data": {
      "text/html": [
       "<div>\n",
       "<style scoped>\n",
       "    .dataframe tbody tr th:only-of-type {\n",
       "        vertical-align: middle;\n",
       "    }\n",
       "\n",
       "    .dataframe tbody tr th {\n",
       "        vertical-align: top;\n",
       "    }\n",
       "\n",
       "    .dataframe thead th {\n",
       "        text-align: right;\n",
       "    }\n",
       "</style>\n",
       "<table border=\"1\" class=\"dataframe\">\n",
       "  <thead>\n",
       "    <tr style=\"text-align: right;\">\n",
       "      <th></th>\n",
       "      <th>Question</th>\n",
       "      <th>Answer</th>\n",
       "    </tr>\n",
       "  </thead>\n",
       "  <tbody>\n",
       "    <tr>\n",
       "      <th>3</th>\n",
       "      <td>What is radiation therapy?</td>\n",
       "      <td>Radiation therapy (also called radiotherapy) i...</td>\n",
       "    </tr>\n",
       "    <tr>\n",
       "      <th>4</th>\n",
       "      <td>How is radiation therapy given?</td>\n",
       "      <td>Radiation therapy can be external beam or inte...</td>\n",
       "    </tr>\n",
       "    <tr>\n",
       "      <th>5</th>\n",
       "      <td>Who gets radiation therapy?</td>\n",
       "      <td>Many people with cancer need treatment with ra...</td>\n",
       "    </tr>\n",
       "    <tr>\n",
       "      <th>6</th>\n",
       "      <td>What does radiation therapy do to cancer cells?</td>\n",
       "      <td>Given in high doses, radiation kills or slows ...</td>\n",
       "    </tr>\n",
       "    <tr>\n",
       "      <th>7</th>\n",
       "      <td>How long does radiation therapy take to work?</td>\n",
       "      <td>Radiation therapy does not kill cancer cells r...</td>\n",
       "    </tr>\n",
       "  </tbody>\n",
       "</table>\n",
       "</div>"
      ],
      "text/plain": [
       "                                          Question  \\\n",
       "3                       What is radiation therapy?   \n",
       "4                  How is radiation therapy given?   \n",
       "5                      Who gets radiation therapy?   \n",
       "6  What does radiation therapy do to cancer cells?   \n",
       "7    How long does radiation therapy take to work?   \n",
       "\n",
       "                                              Answer  \n",
       "3  Radiation therapy (also called radiotherapy) i...  \n",
       "4  Radiation therapy can be external beam or inte...  \n",
       "5  Many people with cancer need treatment with ra...  \n",
       "6  Given in high doses, radiation kills or slows ...  \n",
       "7  Radiation therapy does not kill cancer cells r...  "
      ]
     },
     "execution_count": 5,
     "metadata": {},
     "output_type": "execute_result"
    }
   ],
   "source": [
    "QnA_Keys = ['NIH-NCI Questions from \"Radiation Therapy & You\" and ChatGPT prompt',\n",
    "            'NIH-NCI Answers from \" Radiation Therapy & You\"',\n",
    "            ]\n",
    "\n",
    "df1 = df1[QnA_Keys].iloc[3:]\n",
    "df1.columns = ['Question', 'Answer']\n",
    "df1.dropna(inplace=True)\n",
    "print(f\"Data Size : {df1.shape[0]}\")\n",
    "df1.head()"
   ]
  },
  {
   "cell_type": "code",
   "execution_count": 6,
   "metadata": {},
   "outputs": [
    {
     "data": {
      "text/html": [
       "<div>\n",
       "<style scoped>\n",
       "    .dataframe tbody tr th:only-of-type {\n",
       "        vertical-align: middle;\n",
       "    }\n",
       "\n",
       "    .dataframe tbody tr th {\n",
       "        vertical-align: top;\n",
       "    }\n",
       "\n",
       "    .dataframe thead th {\n",
       "        text-align: right;\n",
       "    }\n",
       "</style>\n",
       "<table border=\"1\" class=\"dataframe\">\n",
       "  <thead>\n",
       "    <tr style=\"text-align: right;\">\n",
       "      <th></th>\n",
       "      <th>Question</th>\n",
       "      <th>Answer</th>\n",
       "      <th>topic_name</th>\n",
       "    </tr>\n",
       "  </thead>\n",
       "  <tbody>\n",
       "    <tr>\n",
       "      <th>3</th>\n",
       "      <td>What is radiation therapy?</td>\n",
       "      <td>Radiation therapy (also called radiotherapy) i...</td>\n",
       "      <td>1QnA_General</td>\n",
       "    </tr>\n",
       "    <tr>\n",
       "      <th>4</th>\n",
       "      <td>How is radiation therapy given?</td>\n",
       "      <td>Radiation therapy can be external beam or inte...</td>\n",
       "      <td>1QnA_General</td>\n",
       "    </tr>\n",
       "    <tr>\n",
       "      <th>5</th>\n",
       "      <td>Who gets radiation therapy?</td>\n",
       "      <td>Many people with cancer need treatment with ra...</td>\n",
       "      <td>1QnA_General</td>\n",
       "    </tr>\n",
       "    <tr>\n",
       "      <th>6</th>\n",
       "      <td>What does radiation therapy do to cancer cells?</td>\n",
       "      <td>Given in high doses, radiation kills or slows ...</td>\n",
       "      <td>1QnA_General</td>\n",
       "    </tr>\n",
       "    <tr>\n",
       "      <th>7</th>\n",
       "      <td>How long does radiation therapy take to work?</td>\n",
       "      <td>Radiation therapy does not kill cancer cells r...</td>\n",
       "      <td>1QnA_General</td>\n",
       "    </tr>\n",
       "  </tbody>\n",
       "</table>\n",
       "</div>"
      ],
      "text/plain": [
       "                                          Question  \\\n",
       "3                       What is radiation therapy?   \n",
       "4                  How is radiation therapy given?   \n",
       "5                      Who gets radiation therapy?   \n",
       "6  What does radiation therapy do to cancer cells?   \n",
       "7    How long does radiation therapy take to work?   \n",
       "\n",
       "                                              Answer    topic_name  \n",
       "3  Radiation therapy (also called radiotherapy) i...  1QnA_General  \n",
       "4  Radiation therapy can be external beam or inte...  1QnA_General  \n",
       "5  Many people with cancer need treatment with ra...  1QnA_General  \n",
       "6  Given in high doses, radiation kills or slows ...  1QnA_General  \n",
       "7  Radiation therapy does not kill cancer cells r...  1QnA_General  "
      ]
     },
     "execution_count": 6,
     "metadata": {},
     "output_type": "execute_result"
    }
   ],
   "source": [
    "df1['topic_name'] = ['1QnA_General'] * len(df1)\n",
    "df1.head()"
   ]
  },
  {
   "cell_type": "markdown",
   "metadata": {},
   "source": [
    "## 2Treatment_Modalities"
   ]
  },
  {
   "cell_type": "code",
   "execution_count": 7,
   "metadata": {},
   "outputs": [
    {
     "name": "stdout",
     "output_type": "stream",
     "text": [
      "Data Size: 45\n"
     ]
    },
    {
     "data": {
      "text/html": [
       "<div>\n",
       "<style scoped>\n",
       "    .dataframe tbody tr th:only-of-type {\n",
       "        vertical-align: middle;\n",
       "    }\n",
       "\n",
       "    .dataframe tbody tr th {\n",
       "        vertical-align: top;\n",
       "    }\n",
       "\n",
       "    .dataframe thead th {\n",
       "        text-align: right;\n",
       "    }\n",
       "</style>\n",
       "<table border=\"1\" class=\"dataframe\">\n",
       "  <thead>\n",
       "    <tr style=\"text-align: right;\">\n",
       "      <th></th>\n",
       "      <th>topic_name</th>\n",
       "      <th>Question</th>\n",
       "      <th>Answer</th>\n",
       "    </tr>\n",
       "  </thead>\n",
       "  <tbody>\n",
       "    <tr>\n",
       "      <th>3</th>\n",
       "      <td>Ext Beam</td>\n",
       "      <td>What is external beam therapy and how is it used?</td>\n",
       "      <td>External beam therapy (EBT), also called exter...</td>\n",
       "    </tr>\n",
       "    <tr>\n",
       "      <th>4</th>\n",
       "      <td>Ext Beam</td>\n",
       "      <td>Who operates external beam radiotherapy equipm...</td>\n",
       "      <td>The equipment is operated by a radiation thera...</td>\n",
       "    </tr>\n",
       "    <tr>\n",
       "      <th>5</th>\n",
       "      <td>Ext Beam</td>\n",
       "      <td>Is there any special preparation needed for ex...</td>\n",
       "      <td>The process of external beam therapy involves ...</td>\n",
       "    </tr>\n",
       "    <tr>\n",
       "      <th>6</th>\n",
       "      <td>Ext Beam</td>\n",
       "      <td>How is external beam therapy procedure performed?</td>\n",
       "      <td>Before each treatment session, the patient may...</td>\n",
       "    </tr>\n",
       "    <tr>\n",
       "      <th>7</th>\n",
       "      <td>Ext Beam</td>\n",
       "      <td>What will I feel during external beam therapy ...</td>\n",
       "      <td>External beam therapy is painless but patients...</td>\n",
       "    </tr>\n",
       "  </tbody>\n",
       "</table>\n",
       "</div>"
      ],
      "text/plain": [
       "  topic_name                                           Question  \\\n",
       "3   Ext Beam  What is external beam therapy and how is it used?   \n",
       "4   Ext Beam  Who operates external beam radiotherapy equipm...   \n",
       "5   Ext Beam  Is there any special preparation needed for ex...   \n",
       "6   Ext Beam  How is external beam therapy procedure performed?   \n",
       "7   Ext Beam  What will I feel during external beam therapy ...   \n",
       "\n",
       "                                              Answer  \n",
       "3  External beam therapy (EBT), also called exter...  \n",
       "4  The equipment is operated by a radiation thera...  \n",
       "5  The process of external beam therapy involves ...  \n",
       "6  Before each treatment session, the patient may...  \n",
       "7  External beam therapy is painless but patients...  "
      ]
     },
     "execution_count": 7,
     "metadata": {},
     "output_type": "execute_result"
    }
   ],
   "source": [
    "QnA_Keys = [\n",
    "   'Txt Modalities', 'RSNA/ACR Questions from \"RadiologyInfo.org\" and ChatGPT prompt',\n",
    "    'RSNA/ACR Answers from \" \"RadiologyInfo.org\"'\n",
    "]\n",
    "\n",
    "df2 = df2[QnA_Keys].iloc[3:]\n",
    "df2.columns = ['topic_name', 'Question', 'Answer']\n",
    "df2.dropna(inplace=True)\n",
    "print(\"Data Size:\", df2.shape[0])\n",
    "df2.head()\n"
   ]
  },
  {
   "cell_type": "markdown",
   "metadata": {},
   "source": [
    "## 3Site_Specific_AY"
   ]
  },
  {
   "cell_type": "code",
   "execution_count": 8,
   "metadata": {},
   "outputs": [
    {
     "name": "stdout",
     "output_type": "stream",
     "text": [
      "Data Size: 41\n"
     ]
    },
    {
     "data": {
      "text/html": [
       "<div>\n",
       "<style scoped>\n",
       "    .dataframe tbody tr th:only-of-type {\n",
       "        vertical-align: middle;\n",
       "    }\n",
       "\n",
       "    .dataframe tbody tr th {\n",
       "        vertical-align: top;\n",
       "    }\n",
       "\n",
       "    .dataframe thead th {\n",
       "        text-align: right;\n",
       "    }\n",
       "</style>\n",
       "<table border=\"1\" class=\"dataframe\">\n",
       "  <thead>\n",
       "    <tr style=\"text-align: right;\">\n",
       "      <th></th>\n",
       "      <th>topic_name</th>\n",
       "      <th>Question</th>\n",
       "      <th>Answer</th>\n",
       "    </tr>\n",
       "  </thead>\n",
       "  <tbody>\n",
       "    <tr>\n",
       "      <th>3</th>\n",
       "      <td>Colorectal</td>\n",
       "      <td>How effective is modern radiation treatment of...</td>\n",
       "      <td>Surgery is the most effective way to treat col...</td>\n",
       "    </tr>\n",
       "    <tr>\n",
       "      <th>4</th>\n",
       "      <td>Colorectal</td>\n",
       "      <td>What happens during radiation therapy of  colo...</td>\n",
       "      <td>Radiation therapy uses high energy x-rays (pho...</td>\n",
       "    </tr>\n",
       "    <tr>\n",
       "      <th>5</th>\n",
       "      <td>Colorectal</td>\n",
       "      <td>What are the possible side effects, risks, and...</td>\n",
       "      <td>Side effects that develop during treatment var...</td>\n",
       "    </tr>\n",
       "    <tr>\n",
       "      <th>6</th>\n",
       "      <td>Colorectal</td>\n",
       "      <td>What kind of treatment follow-up should I expe...</td>\n",
       "      <td>Colorectal cancer can recur, or reappear, in a...</td>\n",
       "    </tr>\n",
       "    <tr>\n",
       "      <th>7</th>\n",
       "      <td>Esophageal</td>\n",
       "      <td>What happens during radiation therapy of esoph...</td>\n",
       "      <td>Prior to beginning radiation therapy, some pat...</td>\n",
       "    </tr>\n",
       "  </tbody>\n",
       "</table>\n",
       "</div>"
      ],
      "text/plain": [
       "   topic_name                                           Question  \\\n",
       "3  Colorectal  How effective is modern radiation treatment of...   \n",
       "4  Colorectal  What happens during radiation therapy of  colo...   \n",
       "5  Colorectal  What are the possible side effects, risks, and...   \n",
       "6  Colorectal  What kind of treatment follow-up should I expe...   \n",
       "7  Esophageal  What happens during radiation therapy of esoph...   \n",
       "\n",
       "                                              Answer  \n",
       "3  Surgery is the most effective way to treat col...  \n",
       "4  Radiation therapy uses high energy x-rays (pho...  \n",
       "5  Side effects that develop during treatment var...  \n",
       "6  Colorectal cancer can recur, or reappear, in a...  \n",
       "7  Prior to beginning radiation therapy, some pat...  "
      ]
     },
     "execution_count": 8,
     "metadata": {},
     "output_type": "execute_result"
    }
   ],
   "source": [
    "QnA_Keys = [\n",
    "    'Txt Sites',\n",
    "    'RSNA/ACR Questions from \"RadiologyInfo.org\"',\n",
    "    'RSNA/ACR Answers from \" \"RadiologyInfo.org\"'\n",
    "]\n",
    "df3 = df3[QnA_Keys].iloc[3:]\n",
    "df3.columns = [\"topic_name\", \"Question\", \"Answer\"]\n",
    "df3.dropna(inplace=True)\n",
    "print(\"Data Size:\", df3.shape[0])\n",
    "df3.head()"
   ]
  },
  {
   "cell_type": "code",
   "execution_count": 9,
   "metadata": {},
   "outputs": [
    {
     "name": "stdout",
     "output_type": "stream",
     "text": [
      "Total Data Size: 115\n"
     ]
    },
    {
     "data": {
      "text/html": [
       "<div>\n",
       "<style scoped>\n",
       "    .dataframe tbody tr th:only-of-type {\n",
       "        vertical-align: middle;\n",
       "    }\n",
       "\n",
       "    .dataframe tbody tr th {\n",
       "        vertical-align: top;\n",
       "    }\n",
       "\n",
       "    .dataframe thead th {\n",
       "        text-align: right;\n",
       "    }\n",
       "</style>\n",
       "<table border=\"1\" class=\"dataframe\">\n",
       "  <thead>\n",
       "    <tr style=\"text-align: right;\">\n",
       "      <th></th>\n",
       "      <th>Question</th>\n",
       "      <th>Answer</th>\n",
       "      <th>topic_name</th>\n",
       "    </tr>\n",
       "  </thead>\n",
       "  <tbody>\n",
       "    <tr>\n",
       "      <th>3</th>\n",
       "      <td>What is radiation therapy?</td>\n",
       "      <td>Radiation therapy (also called radiotherapy) i...</td>\n",
       "      <td>1QnA_General</td>\n",
       "    </tr>\n",
       "    <tr>\n",
       "      <th>4</th>\n",
       "      <td>How is radiation therapy given?</td>\n",
       "      <td>Radiation therapy can be external beam or inte...</td>\n",
       "      <td>1QnA_General</td>\n",
       "    </tr>\n",
       "    <tr>\n",
       "      <th>5</th>\n",
       "      <td>Who gets radiation therapy?</td>\n",
       "      <td>Many people with cancer need treatment with ra...</td>\n",
       "      <td>1QnA_General</td>\n",
       "    </tr>\n",
       "    <tr>\n",
       "      <th>6</th>\n",
       "      <td>What does radiation therapy do to cancer cells?</td>\n",
       "      <td>Given in high doses, radiation kills or slows ...</td>\n",
       "      <td>1QnA_General</td>\n",
       "    </tr>\n",
       "    <tr>\n",
       "      <th>7</th>\n",
       "      <td>How long does radiation therapy take to work?</td>\n",
       "      <td>Radiation therapy does not kill cancer cells r...</td>\n",
       "      <td>1QnA_General</td>\n",
       "    </tr>\n",
       "  </tbody>\n",
       "</table>\n",
       "</div>"
      ],
      "text/plain": [
       "                                          Question  \\\n",
       "3                       What is radiation therapy?   \n",
       "4                  How is radiation therapy given?   \n",
       "5                      Who gets radiation therapy?   \n",
       "6  What does radiation therapy do to cancer cells?   \n",
       "7    How long does radiation therapy take to work?   \n",
       "\n",
       "                                              Answer    topic_name  \n",
       "3  Radiation therapy (also called radiotherapy) i...  1QnA_General  \n",
       "4  Radiation therapy can be external beam or inte...  1QnA_General  \n",
       "5  Many people with cancer need treatment with ra...  1QnA_General  \n",
       "6  Given in high doses, radiation kills or slows ...  1QnA_General  \n",
       "7  Radiation therapy does not kill cancer cells r...  1QnA_General  "
      ]
     },
     "execution_count": 9,
     "metadata": {},
     "output_type": "execute_result"
    }
   ],
   "source": [
    "prelim_data_df = pd.concat([df1, df2, df3])\n",
    "print(\"Total Data Size:\", prelim_data_df.shape[0])\n",
    "prelim_data_df.head()"
   ]
  },
  {
   "cell_type": "code",
   "execution_count": 26,
   "metadata": {},
   "outputs": [],
   "source": [
    "prelim_data_df.to_csv(data_dir / 'prelim_data_cleaned.csv', index=False)"
   ]
  },
  {
   "cell_type": "markdown",
   "metadata": {},
   "source": [
    "## Cancer_org Database"
   ]
  },
  {
   "cell_type": "code",
   "execution_count": 11,
   "metadata": {},
   "outputs": [],
   "source": [
    "prelim_data_path = data_dir / 'prelim_data_cleaned.csv'\n",
    "cancer_data_path = data_dir / 'webscrapping-data-cleaning.xlsx'"
   ]
  },
  {
   "cell_type": "code",
   "execution_count": 12,
   "metadata": {},
   "outputs": [
    {
     "data": {
      "text/plain": [
       "(115, 3)"
      ]
     },
     "execution_count": 12,
     "metadata": {},
     "output_type": "execute_result"
    }
   ],
   "source": [
    "#prelim_data = pd.read_csv(prelim_data_path)\n",
    "prelim_data = prelim_data_df.copy()\n",
    "cancer_data = pd.read_excel(cancer_data_path, sheet_name=\"cancer.org\")\n",
    "\n",
    "prelim_data.shape"
   ]
  },
  {
   "cell_type": "code",
   "execution_count": 13,
   "metadata": {},
   "outputs": [
    {
     "data": {
      "text/html": [
       "<div>\n",
       "<style scoped>\n",
       "    .dataframe tbody tr th:only-of-type {\n",
       "        vertical-align: middle;\n",
       "    }\n",
       "\n",
       "    .dataframe tbody tr th {\n",
       "        vertical-align: top;\n",
       "    }\n",
       "\n",
       "    .dataframe thead th {\n",
       "        text-align: right;\n",
       "    }\n",
       "</style>\n",
       "<table border=\"1\" class=\"dataframe\">\n",
       "  <thead>\n",
       "    <tr style=\"text-align: right;\">\n",
       "      <th></th>\n",
       "      <th>Question</th>\n",
       "      <th>Answer</th>\n",
       "      <th>topic_name</th>\n",
       "    </tr>\n",
       "  </thead>\n",
       "  <tbody>\n",
       "    <tr>\n",
       "      <th>3</th>\n",
       "      <td>What is radiation therapy?</td>\n",
       "      <td>Radiation therapy (also called radiotherapy) i...</td>\n",
       "      <td>1QnA_General</td>\n",
       "    </tr>\n",
       "    <tr>\n",
       "      <th>4</th>\n",
       "      <td>How is radiation therapy given?</td>\n",
       "      <td>Radiation therapy can be external beam or inte...</td>\n",
       "      <td>1QnA_General</td>\n",
       "    </tr>\n",
       "    <tr>\n",
       "      <th>5</th>\n",
       "      <td>Who gets radiation therapy?</td>\n",
       "      <td>Many people with cancer need treatment with ra...</td>\n",
       "      <td>1QnA_General</td>\n",
       "    </tr>\n",
       "    <tr>\n",
       "      <th>6</th>\n",
       "      <td>What does radiation therapy do to cancer cells?</td>\n",
       "      <td>Given in high doses, radiation kills or slows ...</td>\n",
       "      <td>1QnA_General</td>\n",
       "    </tr>\n",
       "    <tr>\n",
       "      <th>7</th>\n",
       "      <td>How long does radiation therapy take to work?</td>\n",
       "      <td>Radiation therapy does not kill cancer cells r...</td>\n",
       "      <td>1QnA_General</td>\n",
       "    </tr>\n",
       "  </tbody>\n",
       "</table>\n",
       "</div>"
      ],
      "text/plain": [
       "                                          Question  \\\n",
       "3                       What is radiation therapy?   \n",
       "4                  How is radiation therapy given?   \n",
       "5                      Who gets radiation therapy?   \n",
       "6  What does radiation therapy do to cancer cells?   \n",
       "7    How long does radiation therapy take to work?   \n",
       "\n",
       "                                              Answer    topic_name  \n",
       "3  Radiation therapy (also called radiotherapy) i...  1QnA_General  \n",
       "4  Radiation therapy can be external beam or inte...  1QnA_General  \n",
       "5  Many people with cancer need treatment with ra...  1QnA_General  \n",
       "6  Given in high doses, radiation kills or slows ...  1QnA_General  \n",
       "7  Radiation therapy does not kill cancer cells r...  1QnA_General  "
      ]
     },
     "execution_count": 13,
     "metadata": {},
     "output_type": "execute_result"
    }
   ],
   "source": [
    "prelim_data.head()"
   ]
  },
  {
   "cell_type": "code",
   "execution_count": 14,
   "metadata": {},
   "outputs": [
    {
     "data": {
      "text/html": [
       "<div>\n",
       "<style scoped>\n",
       "    .dataframe tbody tr th:only-of-type {\n",
       "        vertical-align: middle;\n",
       "    }\n",
       "\n",
       "    .dataframe tbody tr th {\n",
       "        vertical-align: top;\n",
       "    }\n",
       "\n",
       "    .dataframe thead th {\n",
       "        text-align: right;\n",
       "    }\n",
       "</style>\n",
       "<table border=\"1\" class=\"dataframe\">\n",
       "  <thead>\n",
       "    <tr style=\"text-align: right;\">\n",
       "      <th></th>\n",
       "      <th>topic_name</th>\n",
       "      <th>Question</th>\n",
       "      <th>Cleaned_Answer</th>\n",
       "    </tr>\n",
       "  </thead>\n",
       "  <tbody>\n",
       "    <tr>\n",
       "      <th>0</th>\n",
       "      <td>general</td>\n",
       "      <td>What is a risk factor?</td>\n",
       "      <td>A risk factor is something that raises the cha...</td>\n",
       "    </tr>\n",
       "    <tr>\n",
       "      <th>1</th>\n",
       "      <td>general</td>\n",
       "      <td>Can injuries cause cancer?</td>\n",
       "      <td>Falls, bruises, broken bones, or other such in...</td>\n",
       "    </tr>\n",
       "    <tr>\n",
       "      <th>2</th>\n",
       "      <td>general</td>\n",
       "      <td>Can I bring cancer on myself?</td>\n",
       "      <td>Your personality and emotions cannot cause can...</td>\n",
       "    </tr>\n",
       "    <tr>\n",
       "      <th>3</th>\n",
       "      <td>general</td>\n",
       "      <td>Can stress cause cancer?</td>\n",
       "      <td>Researchers have done many studies to see if t...</td>\n",
       "    </tr>\n",
       "    <tr>\n",
       "      <th>4</th>\n",
       "      <td>general</td>\n",
       "      <td>Does sugar feed cancer?</td>\n",
       "      <td>Sugar intake has not been shown to increase th...</td>\n",
       "    </tr>\n",
       "  </tbody>\n",
       "</table>\n",
       "</div>"
      ],
      "text/plain": [
       "  topic_name                       Question  \\\n",
       "0    general         What is a risk factor?   \n",
       "1    general     Can injuries cause cancer?   \n",
       "2    general  Can I bring cancer on myself?   \n",
       "3    general       Can stress cause cancer?   \n",
       "4    general        Does sugar feed cancer?   \n",
       "\n",
       "                                      Cleaned_Answer  \n",
       "0  A risk factor is something that raises the cha...  \n",
       "1  Falls, bruises, broken bones, or other such in...  \n",
       "2  Your personality and emotions cannot cause can...  \n",
       "3  Researchers have done many studies to see if t...  \n",
       "4  Sugar intake has not been shown to increase th...  "
      ]
     },
     "execution_count": 14,
     "metadata": {},
     "output_type": "execute_result"
    }
   ],
   "source": [
    "cancer_data.head()"
   ]
  },
  {
   "cell_type": "code",
   "execution_count": 15,
   "metadata": {},
   "outputs": [
    {
     "name": "stdout",
     "output_type": "stream",
     "text": [
      "Combined Data Size: 153\n"
     ]
    }
   ],
   "source": [
    "cancer_data = cancer_data[['topic_name', 'Question', 'Cleaned_Answer']]\n",
    "cancer_data.rename({\"Cleaned_Answer\" : \"Answer\"}, axis=1, inplace=True)\n",
    "\n",
    "prelim_data = prelim_data[['topic_name', 'Question', 'Answer']]\n",
    "combined_data = pd.concat([prelim_data, cancer_data])\n",
    "print(f\"Combined Data Size: {combined_data.shape[0]}\")"
   ]
  },
  {
   "cell_type": "code",
   "execution_count": 16,
   "metadata": {},
   "outputs": [
    {
     "data": {
      "text/html": [
       "<div>\n",
       "<style scoped>\n",
       "    .dataframe tbody tr th:only-of-type {\n",
       "        vertical-align: middle;\n",
       "    }\n",
       "\n",
       "    .dataframe tbody tr th {\n",
       "        vertical-align: top;\n",
       "    }\n",
       "\n",
       "    .dataframe thead th {\n",
       "        text-align: right;\n",
       "    }\n",
       "</style>\n",
       "<table border=\"1\" class=\"dataframe\">\n",
       "  <thead>\n",
       "    <tr style=\"text-align: right;\">\n",
       "      <th></th>\n",
       "      <th>topic_name</th>\n",
       "      <th>Question</th>\n",
       "      <th>Answer</th>\n",
       "    </tr>\n",
       "  </thead>\n",
       "  <tbody>\n",
       "    <tr>\n",
       "      <th>3</th>\n",
       "      <td>1QnA_General</td>\n",
       "      <td>What is radiation therapy?</td>\n",
       "      <td>Radiation therapy (also called radiotherapy) i...</td>\n",
       "    </tr>\n",
       "    <tr>\n",
       "      <th>4</th>\n",
       "      <td>1QnA_General</td>\n",
       "      <td>How is radiation therapy given?</td>\n",
       "      <td>Radiation therapy can be external beam or inte...</td>\n",
       "    </tr>\n",
       "    <tr>\n",
       "      <th>5</th>\n",
       "      <td>1QnA_General</td>\n",
       "      <td>Who gets radiation therapy?</td>\n",
       "      <td>Many people with cancer need treatment with ra...</td>\n",
       "    </tr>\n",
       "    <tr>\n",
       "      <th>6</th>\n",
       "      <td>1QnA_General</td>\n",
       "      <td>What does radiation therapy do to cancer cells?</td>\n",
       "      <td>Given in high doses, radiation kills or slows ...</td>\n",
       "    </tr>\n",
       "    <tr>\n",
       "      <th>7</th>\n",
       "      <td>1QnA_General</td>\n",
       "      <td>How long does radiation therapy take to work?</td>\n",
       "      <td>Radiation therapy does not kill cancer cells r...</td>\n",
       "    </tr>\n",
       "  </tbody>\n",
       "</table>\n",
       "</div>"
      ],
      "text/plain": [
       "     topic_name                                         Question  \\\n",
       "3  1QnA_General                       What is radiation therapy?   \n",
       "4  1QnA_General                  How is radiation therapy given?   \n",
       "5  1QnA_General                      Who gets radiation therapy?   \n",
       "6  1QnA_General  What does radiation therapy do to cancer cells?   \n",
       "7  1QnA_General    How long does radiation therapy take to work?   \n",
       "\n",
       "                                              Answer  \n",
       "3  Radiation therapy (also called radiotherapy) i...  \n",
       "4  Radiation therapy can be external beam or inte...  \n",
       "5  Many people with cancer need treatment with ra...  \n",
       "6  Given in high doses, radiation kills or slows ...  \n",
       "7  Radiation therapy does not kill cancer cells r...  "
      ]
     },
     "execution_count": 16,
     "metadata": {},
     "output_type": "execute_result"
    }
   ],
   "source": [
    "combined_data.head()"
   ]
  },
  {
   "cell_type": "code",
   "execution_count": 15,
   "metadata": {},
   "outputs": [],
   "source": [
    "combined_data.to_csv(data_dir / 'prelim_cancer_data.csv', index=False)"
   ]
  },
  {
   "cell_type": "markdown",
   "metadata": {},
   "source": [
    "# RadiologyInfo Cleaned Dataset Merge"
   ]
  },
  {
   "cell_type": "code",
   "execution_count": 17,
   "metadata": {},
   "outputs": [],
   "source": [
    "data_dir = Path.cwd().parent / \"data/data_files\"\n",
    "\n",
    "base_file_name = 'prelim_cancer_data.csv'\n",
    "radiology_data_file_name = 'radiology_info_cleaned_data.csv'"
   ]
  },
  {
   "cell_type": "code",
   "execution_count": 18,
   "metadata": {},
   "outputs": [
    {
     "data": {
      "text/html": [
       "<div>\n",
       "<style scoped>\n",
       "    .dataframe tbody tr th:only-of-type {\n",
       "        vertical-align: middle;\n",
       "    }\n",
       "\n",
       "    .dataframe tbody tr th {\n",
       "        vertical-align: top;\n",
       "    }\n",
       "\n",
       "    .dataframe thead th {\n",
       "        text-align: right;\n",
       "    }\n",
       "</style>\n",
       "<table border=\"1\" class=\"dataframe\">\n",
       "  <thead>\n",
       "    <tr style=\"text-align: right;\">\n",
       "      <th></th>\n",
       "      <th>topic_name</th>\n",
       "      <th>Question (A)</th>\n",
       "      <th>Generated Question (B)</th>\n",
       "      <th>Selected Question (A or B)</th>\n",
       "      <th>Answer</th>\n",
       "      <th>Comments/ Modified answers</th>\n",
       "    </tr>\n",
       "  </thead>\n",
       "  <tbody>\n",
       "    <tr>\n",
       "      <th>0</th>\n",
       "      <td>anal-cancer-therapy</td>\n",
       "      <td>Anal cancer overview</td>\n",
       "      <td>What is anal cancer?</td>\n",
       "      <td>B</td>\n",
       "      <td>Anal cancer is a cancer that begins in the anu...</td>\n",
       "      <td>NaN</td>\n",
       "    </tr>\n",
       "    <tr>\n",
       "      <th>1</th>\n",
       "      <td>anal-cancer-therapy</td>\n",
       "      <td>What are my treatment options?</td>\n",
       "      <td>What are the treatment options for anal cancer?</td>\n",
       "      <td>B</td>\n",
       "      <td>There are three types of standard treatment fo...</td>\n",
       "      <td>NaN</td>\n",
       "    </tr>\n",
       "    <tr>\n",
       "      <th>2</th>\n",
       "      <td>anal-cancer-therapy</td>\n",
       "      <td>What happens during radiation therapy?</td>\n",
       "      <td>What happens during anal cancer therapy?</td>\n",
       "      <td>What happens during radiation therapy for anal...</td>\n",
       "      <td>Radiation therapy uses high energy x-rays (pho...</td>\n",
       "      <td>NaN</td>\n",
       "    </tr>\n",
       "    <tr>\n",
       "      <th>3</th>\n",
       "      <td>anal-cancer-therapy</td>\n",
       "      <td>What are possible side effects of radiation th...</td>\n",
       "      <td>What are possible side effects of anal cancer ...</td>\n",
       "      <td>B</td>\n",
       "      <td>Side effects of radiation treatment include pr...</td>\n",
       "      <td>NaN</td>\n",
       "    </tr>\n",
       "    <tr>\n",
       "      <th>4</th>\n",
       "      <td>anal-cancer-therapy</td>\n",
       "      <td>What kind of treatment follow-up should I expect?</td>\n",
       "      <td>What treatments for anal cancer typically requ...</td>\n",
       "      <td>What kind of treatment follow-up should I expe...</td>\n",
       "      <td>After your treatment has ended, your physician...</td>\n",
       "      <td>NaN</td>\n",
       "    </tr>\n",
       "  </tbody>\n",
       "</table>\n",
       "</div>"
      ],
      "text/plain": [
       "            topic_name                                       Question (A)  \\\n",
       "0  anal-cancer-therapy                               Anal cancer overview   \n",
       "1  anal-cancer-therapy                     What are my treatment options?   \n",
       "2  anal-cancer-therapy             What happens during radiation therapy?   \n",
       "3  anal-cancer-therapy  What are possible side effects of radiation th...   \n",
       "4  anal-cancer-therapy  What kind of treatment follow-up should I expect?   \n",
       "\n",
       "                              Generated Question (B)  \\\n",
       "0                               What is anal cancer?   \n",
       "1    What are the treatment options for anal cancer?   \n",
       "2           What happens during anal cancer therapy?   \n",
       "3  What are possible side effects of anal cancer ...   \n",
       "4  What treatments for anal cancer typically requ...   \n",
       "\n",
       "                          Selected Question (A or B)  \\\n",
       "0                                                  B   \n",
       "1                                                  B   \n",
       "2  What happens during radiation therapy for anal...   \n",
       "3                                                  B   \n",
       "4  What kind of treatment follow-up should I expe...   \n",
       "\n",
       "                                              Answer  \\\n",
       "0  Anal cancer is a cancer that begins in the anu...   \n",
       "1  There are three types of standard treatment fo...   \n",
       "2  Radiation therapy uses high energy x-rays (pho...   \n",
       "3  Side effects of radiation treatment include pr...   \n",
       "4  After your treatment has ended, your physician...   \n",
       "\n",
       "  Comments/ Modified answers  \n",
       "0                        NaN  \n",
       "1                        NaN  \n",
       "2                        NaN  \n",
       "3                        NaN  \n",
       "4                        NaN  "
      ]
     },
     "execution_count": 18,
     "metadata": {},
     "output_type": "execute_result"
    }
   ],
   "source": [
    "radiology_df = pd.read_csv(data_dir / radiology_data_file_name)\n",
    "radiology_df.head()"
   ]
  },
  {
   "cell_type": "code",
   "execution_count": 19,
   "metadata": {},
   "outputs": [],
   "source": [
    "def process_data(df):\n",
    "    question_list = []\n",
    "    answer_list = []\n",
    "    topic_name_list = []\n",
    "\n",
    "    a_count = 0\n",
    "    b_count = 0 \n",
    "    rest_count = 0\n",
    "    for idx, row in df.iterrows():\n",
    "        if row['Selected Question (A or B)'] == 'A':\n",
    "            question_list.append(row['Question (A)'])\n",
    "            a_count+=1\n",
    "        elif row['Selected Question (A or B)'] == 'B':\n",
    "            question_list.append(row['Generated Question (B)'])\n",
    "            b_count+=1\n",
    "        else:\n",
    "            question_list.append(row['Selected Question (A or B)'])\n",
    "            rest_count+=1\n",
    "        answer_list.append(row['Answer'])\n",
    "        topic_name_list.append(row['topic_name'])\n",
    "    \n",
    "    print(\"A Count : {} -- B Count : {} -- Rest Count : {}\".format(a_count, b_count, rest_count))\n",
    "    final_df = pd.DataFrame({\n",
    "        \"Question\" : question_list, \n",
    "        \"Answer\" : answer_list,\n",
    "        \"topic_name\" : topic_name_list\n",
    "    })\n",
    "    return final_df"
   ]
  },
  {
   "cell_type": "code",
   "execution_count": 20,
   "metadata": {},
   "outputs": [
    {
     "name": "stdout",
     "output_type": "stream",
     "text": [
      "A Count : 45 -- B Count : 68 -- Rest Count : 88\n",
      "RadiologyInfo Data Size : 201\n"
     ]
    }
   ],
   "source": [
    "radiology_df_final = process_data(radiology_df)\n",
    "print(\"RadiologyInfo Data Size : {}\".format(radiology_df_final.shape[0]))"
   ]
  },
  {
   "cell_type": "code",
   "execution_count": 21,
   "metadata": {},
   "outputs": [
    {
     "data": {
      "text/html": [
       "<div>\n",
       "<style scoped>\n",
       "    .dataframe tbody tr th:only-of-type {\n",
       "        vertical-align: middle;\n",
       "    }\n",
       "\n",
       "    .dataframe tbody tr th {\n",
       "        vertical-align: top;\n",
       "    }\n",
       "\n",
       "    .dataframe thead th {\n",
       "        text-align: right;\n",
       "    }\n",
       "</style>\n",
       "<table border=\"1\" class=\"dataframe\">\n",
       "  <thead>\n",
       "    <tr style=\"text-align: right;\">\n",
       "      <th></th>\n",
       "      <th>Question</th>\n",
       "      <th>Answer</th>\n",
       "      <th>topic_name</th>\n",
       "    </tr>\n",
       "  </thead>\n",
       "  <tbody>\n",
       "    <tr>\n",
       "      <th>0</th>\n",
       "      <td>What is anal cancer?</td>\n",
       "      <td>Anal cancer is a cancer that begins in the anu...</td>\n",
       "      <td>anal-cancer-therapy</td>\n",
       "    </tr>\n",
       "    <tr>\n",
       "      <th>1</th>\n",
       "      <td>What are the treatment options for anal cancer?</td>\n",
       "      <td>There are three types of standard treatment fo...</td>\n",
       "      <td>anal-cancer-therapy</td>\n",
       "    </tr>\n",
       "    <tr>\n",
       "      <th>2</th>\n",
       "      <td>What happens during radiation therapy for anal...</td>\n",
       "      <td>Radiation therapy uses high energy x-rays (pho...</td>\n",
       "      <td>anal-cancer-therapy</td>\n",
       "    </tr>\n",
       "    <tr>\n",
       "      <th>3</th>\n",
       "      <td>What are possible side effects of anal cancer ...</td>\n",
       "      <td>Side effects of radiation treatment include pr...</td>\n",
       "      <td>anal-cancer-therapy</td>\n",
       "    </tr>\n",
       "    <tr>\n",
       "      <th>4</th>\n",
       "      <td>What kind of treatment follow-up should I expe...</td>\n",
       "      <td>After your treatment has ended, your physician...</td>\n",
       "      <td>anal-cancer-therapy</td>\n",
       "    </tr>\n",
       "  </tbody>\n",
       "</table>\n",
       "</div>"
      ],
      "text/plain": [
       "                                            Question  \\\n",
       "0                               What is anal cancer?   \n",
       "1    What are the treatment options for anal cancer?   \n",
       "2  What happens during radiation therapy for anal...   \n",
       "3  What are possible side effects of anal cancer ...   \n",
       "4  What kind of treatment follow-up should I expe...   \n",
       "\n",
       "                                              Answer           topic_name  \n",
       "0  Anal cancer is a cancer that begins in the anu...  anal-cancer-therapy  \n",
       "1  There are three types of standard treatment fo...  anal-cancer-therapy  \n",
       "2  Radiation therapy uses high energy x-rays (pho...  anal-cancer-therapy  \n",
       "3  Side effects of radiation treatment include pr...  anal-cancer-therapy  \n",
       "4  After your treatment has ended, your physician...  anal-cancer-therapy  "
      ]
     },
     "execution_count": 21,
     "metadata": {},
     "output_type": "execute_result"
    }
   ],
   "source": [
    "radiology_df_final.head()"
   ]
  },
  {
   "cell_type": "code",
   "execution_count": 41,
   "metadata": {},
   "outputs": [
    {
     "name": "stdout",
     "output_type": "stream",
     "text": [
      "Base Data Size : 137\n"
     ]
    }
   ],
   "source": [
    "base_df = pd.read_csv(data_dir / base_file_name)\n",
    "print(\"Base Data Size : {}\".format(base_df.shape[0]))"
   ]
  },
  {
   "cell_type": "code",
   "execution_count": 22,
   "metadata": {},
   "outputs": [
    {
     "name": "stdout",
     "output_type": "stream",
     "text": [
      "Merged Data Size : 354\n"
     ]
    }
   ],
   "source": [
    "merged_df = pd.concat([combined_data, radiology_df_final])\n",
    "print(\"Merged Data Size : {}\".format(merged_df.shape[0]))"
   ]
  },
  {
   "cell_type": "code",
   "execution_count": 23,
   "metadata": {},
   "outputs": [
    {
     "name": "stdout",
     "output_type": "stream",
     "text": [
      "Unique Questions : 329\n",
      "Final Data Size : 329\n"
     ]
    }
   ],
   "source": [
    "# Remove Duplicated Questions\n",
    "print(\"Unique Questions : {}\".format(merged_df.Question.unique().shape[0]))\n",
    "merged_df_unique = merged_df.drop_duplicates(subset=['Question'], keep='first')\n",
    "\n",
    "print(\"Final Data Size : {}\".format(merged_df_unique.shape[0]))"
   ]
  },
  {
   "cell_type": "code",
   "execution_count": 24,
   "metadata": {},
   "outputs": [],
   "source": [
    "#merged_df_unique.to_csv(data_dir / 'capstone_final_data_v1_with_topic_names.csv', index=False)"
   ]
  },
  {
   "cell_type": "code",
   "execution_count": 33,
   "metadata": {},
   "outputs": [
    {
     "name": "stdout",
     "output_type": "stream",
     "text": [
      "Merged Data Size : 354\n"
     ]
    }
   ],
   "source": [
    "# merged_df = pd.concat([combined_data, radiology_df_final])\n",
    "# print(\"Merged Data Size : {}\".format(merged_df.shape[0]))"
   ]
  },
  {
   "cell_type": "code",
   "execution_count": 25,
   "metadata": {},
   "outputs": [
    {
     "data": {
      "text/html": [
       "<div>\n",
       "<style scoped>\n",
       "    .dataframe tbody tr th:only-of-type {\n",
       "        vertical-align: middle;\n",
       "    }\n",
       "\n",
       "    .dataframe tbody tr th {\n",
       "        vertical-align: top;\n",
       "    }\n",
       "\n",
       "    .dataframe thead th {\n",
       "        text-align: right;\n",
       "    }\n",
       "</style>\n",
       "<table border=\"1\" class=\"dataframe\">\n",
       "  <thead>\n",
       "    <tr style=\"text-align: right;\">\n",
       "      <th></th>\n",
       "      <th>topic_name</th>\n",
       "      <th>Question</th>\n",
       "      <th>Answer</th>\n",
       "    </tr>\n",
       "  </thead>\n",
       "  <tbody>\n",
       "    <tr>\n",
       "      <th>3</th>\n",
       "      <td>1QnA_General</td>\n",
       "      <td>What is radiation therapy?</td>\n",
       "      <td>Radiation therapy (also called radiotherapy) i...</td>\n",
       "    </tr>\n",
       "    <tr>\n",
       "      <th>4</th>\n",
       "      <td>1QnA_General</td>\n",
       "      <td>How is radiation therapy given?</td>\n",
       "      <td>Radiation therapy can be external beam or inte...</td>\n",
       "    </tr>\n",
       "    <tr>\n",
       "      <th>5</th>\n",
       "      <td>1QnA_General</td>\n",
       "      <td>Who gets radiation therapy?</td>\n",
       "      <td>Many people with cancer need treatment with ra...</td>\n",
       "    </tr>\n",
       "    <tr>\n",
       "      <th>6</th>\n",
       "      <td>1QnA_General</td>\n",
       "      <td>What does radiation therapy do to cancer cells?</td>\n",
       "      <td>Given in high doses, radiation kills or slows ...</td>\n",
       "    </tr>\n",
       "    <tr>\n",
       "      <th>7</th>\n",
       "      <td>1QnA_General</td>\n",
       "      <td>How long does radiation therapy take to work?</td>\n",
       "      <td>Radiation therapy does not kill cancer cells r...</td>\n",
       "    </tr>\n",
       "  </tbody>\n",
       "</table>\n",
       "</div>"
      ],
      "text/plain": [
       "     topic_name                                         Question  \\\n",
       "3  1QnA_General                       What is radiation therapy?   \n",
       "4  1QnA_General                  How is radiation therapy given?   \n",
       "5  1QnA_General                      Who gets radiation therapy?   \n",
       "6  1QnA_General  What does radiation therapy do to cancer cells?   \n",
       "7  1QnA_General    How long does radiation therapy take to work?   \n",
       "\n",
       "                                              Answer  \n",
       "3  Radiation therapy (also called radiotherapy) i...  \n",
       "4  Radiation therapy can be external beam or inte...  \n",
       "5  Many people with cancer need treatment with ra...  \n",
       "6  Given in high doses, radiation kills or slows ...  \n",
       "7  Radiation therapy does not kill cancer cells r...  "
      ]
     },
     "execution_count": 25,
     "metadata": {},
     "output_type": "execute_result"
    }
   ],
   "source": [
    "merged_df_unique.head()"
   ]
  },
  {
   "cell_type": "code",
   "execution_count": 29,
   "metadata": {},
   "outputs": [],
   "source": [
    "ques2topic = merged_df_unique.set_index('Question')['topic_name'].to_dict()"
   ]
  },
  {
   "cell_type": "code",
   "execution_count": 31,
   "metadata": {},
   "outputs": [],
   "source": [
    "#ques2topic"
   ]
  },
  {
   "cell_type": "code",
   "execution_count": 32,
   "metadata": {},
   "outputs": [
    {
     "data": {
      "text/html": [
       "<div>\n",
       "<style scoped>\n",
       "    .dataframe tbody tr th:only-of-type {\n",
       "        vertical-align: middle;\n",
       "    }\n",
       "\n",
       "    .dataframe tbody tr th {\n",
       "        vertical-align: top;\n",
       "    }\n",
       "\n",
       "    .dataframe thead th {\n",
       "        text-align: right;\n",
       "    }\n",
       "</style>\n",
       "<table border=\"1\" class=\"dataframe\">\n",
       "  <thead>\n",
       "    <tr style=\"text-align: right;\">\n",
       "      <th></th>\n",
       "      <th>id</th>\n",
       "      <th>session_id</th>\n",
       "      <th>user_question</th>\n",
       "      <th>parsed_question</th>\n",
       "      <th>response</th>\n",
       "      <th>retrieval_similarity</th>\n",
       "      <th>retrieval_relevancy</th>\n",
       "      <th>is_verified</th>\n",
       "      <th>correctness_score</th>\n",
       "      <th>correctness_reasoning</th>\n",
       "      <th>relevance_score</th>\n",
       "      <th>relevance_reasoning</th>\n",
       "      <th>harmfulness_score</th>\n",
       "      <th>harmfulness_reasoning</th>\n",
       "      <th>conciseness_score</th>\n",
       "      <th>conciseness_reasoning</th>\n",
       "      <th>coherence_score</th>\n",
       "      <th>coherence_reasoning</th>\n",
       "      <th>Ground Truth Answer</th>\n",
       "    </tr>\n",
       "  </thead>\n",
       "  <tbody>\n",
       "    <tr>\n",
       "      <th>0</th>\n",
       "      <td>443</td>\n",
       "      <td>8</td>\n",
       "      <td>What is radiation therapy?</td>\n",
       "      <td>What is radiation therapy?</td>\n",
       "      <td>Radiation therapy, also called radiotherapy, i...</td>\n",
       "      <td>1.0</td>\n",
       "      <td>1.0</td>\n",
       "      <td>False</td>\n",
       "      <td>0.9</td>\n",
       "      <td>**Evaluation Explanation**\\n\\nThe response pro...</td>\n",
       "      <td>0.9</td>\n",
       "      <td>**Evaluation Explanation:**\\n\\nIn this evaluat...</td>\n",
       "      <td>1.0</td>\n",
       "      <td>**Evaluation Explanation**\\n\\nI have evaluated...</td>\n",
       "      <td>0.6</td>\n",
       "      <td>**Evaluation Explanation:**\\nThe response prov...</td>\n",
       "      <td>0.9</td>\n",
       "      <td>**Evaluation Explanation:**\\n\\nI evaluated the...</td>\n",
       "      <td>Radiation therapy (also called radiotherapy) i...</td>\n",
       "    </tr>\n",
       "    <tr>\n",
       "      <th>1</th>\n",
       "      <td>444</td>\n",
       "      <td>8</td>\n",
       "      <td>How is radiation therapy given?</td>\n",
       "      <td>How is radiation therapy given?</td>\n",
       "      <td>Radiation therapy, also called radiotherapy, i...</td>\n",
       "      <td>1.0</td>\n",
       "      <td>1.0</td>\n",
       "      <td>False</td>\n",
       "      <td>0.9</td>\n",
       "      <td>**Evaluation Explanation:**\\n\\nThe assistant's...</td>\n",
       "      <td>0.9</td>\n",
       "      <td>**Evaluation Explanation:**\\n\\nI evaluated the...</td>\n",
       "      <td>0.8</td>\n",
       "      <td>**Evaluation Explanation:**\\n\\nUpon reviewing ...</td>\n",
       "      <td>0.8</td>\n",
       "      <td>**Evaluation Explanation:**\\n\\nThe assistant's...</td>\n",
       "      <td>0.8</td>\n",
       "      <td>**Evaluation Explanation:**\\nThe response prov...</td>\n",
       "      <td>Radiation therapy can be external beam or inte...</td>\n",
       "    </tr>\n",
       "    <tr>\n",
       "      <th>2</th>\n",
       "      <td>445</td>\n",
       "      <td>8</td>\n",
       "      <td>Who gets radiation therapy?</td>\n",
       "      <td>Who gets radiation therapy?</td>\n",
       "      <td>Many people with cancer need treatment with ra...</td>\n",
       "      <td>1.0</td>\n",
       "      <td>1.0</td>\n",
       "      <td>False</td>\n",
       "      <td>0.9</td>\n",
       "      <td>**Evaluation Explanation:**\\n\\nThe assistant's...</td>\n",
       "      <td>0.9</td>\n",
       "      <td>**Evaluation Explanation:**\\n\\nIn this evaluat...</td>\n",
       "      <td>1.0</td>\n",
       "      <td>**Evaluation Explanation:**\\n\\nThe response pr...</td>\n",
       "      <td>0.7</td>\n",
       "      <td>**Evaluation Explanation**\\n\\nThe assistant's ...</td>\n",
       "      <td>0.8</td>\n",
       "      <td>**Evaluation Explanation**\\n\\nI have evaluated...</td>\n",
       "      <td>Many people with cancer need treatment with ra...</td>\n",
       "    </tr>\n",
       "    <tr>\n",
       "      <th>3</th>\n",
       "      <td>446</td>\n",
       "      <td>8</td>\n",
       "      <td>What does radiation therapy do to cancer cells?</td>\n",
       "      <td>What does radiation therapy do to cancer cells?</td>\n",
       "      <td>Radiation therapy is a treatment that kills or...</td>\n",
       "      <td>1.0</td>\n",
       "      <td>1.0</td>\n",
       "      <td>False</td>\n",
       "      <td>0.9</td>\n",
       "      <td>**Evaluation Explanation**\\n\\nUpon reviewing t...</td>\n",
       "      <td>0.9</td>\n",
       "      <td>**Evaluation Explanation**\\n\\nI will evaluate ...</td>\n",
       "      <td>0.9</td>\n",
       "      <td>**Evaluation Explanation**\\n\\nThe response pro...</td>\n",
       "      <td>0.7</td>\n",
       "      <td>**Evaluation Explanation:**\\n\\nThe response pr...</td>\n",
       "      <td>0.9</td>\n",
       "      <td>**Evaluation Explanation:**\\n\\nUpon reviewing ...</td>\n",
       "      <td>Given in high doses, radiation kills or slows ...</td>\n",
       "    </tr>\n",
       "    <tr>\n",
       "      <th>4</th>\n",
       "      <td>447</td>\n",
       "      <td>8</td>\n",
       "      <td>How long does radiation therapy take to work?</td>\n",
       "      <td>How long does radiation therapy take to work?</td>\n",
       "      <td>Radiation therapy is a treatment that uses hig...</td>\n",
       "      <td>1.0</td>\n",
       "      <td>0.9</td>\n",
       "      <td>False</td>\n",
       "      <td>0.8</td>\n",
       "      <td>**Evaluation Explanation:**\\nThe assistant's r...</td>\n",
       "      <td>0.9</td>\n",
       "      <td>**Evaluation Explanation:**\\nI have evaluated ...</td>\n",
       "      <td>1.0</td>\n",
       "      <td>**Evaluation Explanation**\\n\\nThe assistant's ...</td>\n",
       "      <td>0.6</td>\n",
       "      <td>**Evaluation Explanation**\\n\\nThe assistant's ...</td>\n",
       "      <td>0.8</td>\n",
       "      <td>**Evaluation Explanation:**\\nThe response prov...</td>\n",
       "      <td>Radiation therapy does not kill cancer cells r...</td>\n",
       "    </tr>\n",
       "  </tbody>\n",
       "</table>\n",
       "</div>"
      ],
      "text/plain": [
       "    id  session_id                                    user_question  \\\n",
       "0  443           8                       What is radiation therapy?   \n",
       "1  444           8                  How is radiation therapy given?   \n",
       "2  445           8                      Who gets radiation therapy?   \n",
       "3  446           8  What does radiation therapy do to cancer cells?   \n",
       "4  447           8    How long does radiation therapy take to work?   \n",
       "\n",
       "                                   parsed_question  \\\n",
       "0                       What is radiation therapy?   \n",
       "1                  How is radiation therapy given?   \n",
       "2                      Who gets radiation therapy?   \n",
       "3  What does radiation therapy do to cancer cells?   \n",
       "4    How long does radiation therapy take to work?   \n",
       "\n",
       "                                            response  retrieval_similarity  \\\n",
       "0  Radiation therapy, also called radiotherapy, i...                   1.0   \n",
       "1  Radiation therapy, also called radiotherapy, i...                   1.0   \n",
       "2  Many people with cancer need treatment with ra...                   1.0   \n",
       "3  Radiation therapy is a treatment that kills or...                   1.0   \n",
       "4  Radiation therapy is a treatment that uses hig...                   1.0   \n",
       "\n",
       "   retrieval_relevancy  is_verified  correctness_score  \\\n",
       "0                  1.0        False                0.9   \n",
       "1                  1.0        False                0.9   \n",
       "2                  1.0        False                0.9   \n",
       "3                  1.0        False                0.9   \n",
       "4                  0.9        False                0.8   \n",
       "\n",
       "                               correctness_reasoning  relevance_score  \\\n",
       "0  **Evaluation Explanation**\\n\\nThe response pro...              0.9   \n",
       "1  **Evaluation Explanation:**\\n\\nThe assistant's...              0.9   \n",
       "2  **Evaluation Explanation:**\\n\\nThe assistant's...              0.9   \n",
       "3  **Evaluation Explanation**\\n\\nUpon reviewing t...              0.9   \n",
       "4  **Evaluation Explanation:**\\nThe assistant's r...              0.9   \n",
       "\n",
       "                                 relevance_reasoning  harmfulness_score  \\\n",
       "0  **Evaluation Explanation:**\\n\\nIn this evaluat...                1.0   \n",
       "1  **Evaluation Explanation:**\\n\\nI evaluated the...                0.8   \n",
       "2  **Evaluation Explanation:**\\n\\nIn this evaluat...                1.0   \n",
       "3  **Evaluation Explanation**\\n\\nI will evaluate ...                0.9   \n",
       "4  **Evaluation Explanation:**\\nI have evaluated ...                1.0   \n",
       "\n",
       "                               harmfulness_reasoning  conciseness_score  \\\n",
       "0  **Evaluation Explanation**\\n\\nI have evaluated...                0.6   \n",
       "1  **Evaluation Explanation:**\\n\\nUpon reviewing ...                0.8   \n",
       "2  **Evaluation Explanation:**\\n\\nThe response pr...                0.7   \n",
       "3  **Evaluation Explanation**\\n\\nThe response pro...                0.7   \n",
       "4  **Evaluation Explanation**\\n\\nThe assistant's ...                0.6   \n",
       "\n",
       "                               conciseness_reasoning  coherence_score  \\\n",
       "0  **Evaluation Explanation:**\\nThe response prov...              0.9   \n",
       "1  **Evaluation Explanation:**\\n\\nThe assistant's...              0.8   \n",
       "2  **Evaluation Explanation**\\n\\nThe assistant's ...              0.8   \n",
       "3  **Evaluation Explanation:**\\n\\nThe response pr...              0.9   \n",
       "4  **Evaluation Explanation**\\n\\nThe assistant's ...              0.8   \n",
       "\n",
       "                                 coherence_reasoning  \\\n",
       "0  **Evaluation Explanation:**\\n\\nI evaluated the...   \n",
       "1  **Evaluation Explanation:**\\nThe response prov...   \n",
       "2  **Evaluation Explanation**\\n\\nI have evaluated...   \n",
       "3  **Evaluation Explanation:**\\n\\nUpon reviewing ...   \n",
       "4  **Evaluation Explanation:**\\nThe response prov...   \n",
       "\n",
       "                                 Ground Truth Answer  \n",
       "0  Radiation therapy (also called radiotherapy) i...  \n",
       "1  Radiation therapy can be external beam or inte...  \n",
       "2  Many people with cancer need treatment with ra...  \n",
       "3  Given in high doses, radiation kills or slows ...  \n",
       "4  Radiation therapy does not kill cancer cells r...  "
      ]
     },
     "execution_count": 32,
     "metadata": {},
     "output_type": "execute_result"
    }
   ],
   "source": [
    "eval_df = pd.read_csv(data_dir / 'default_ques_eval.csv')\n",
    "eval_df.head()"
   ]
  },
  {
   "cell_type": "code",
   "execution_count": 33,
   "metadata": {},
   "outputs": [],
   "source": [
    "eval_df['topic_name'] = eval_df['user_question'].apply(lambda x : ques2topic[x])"
   ]
  },
  {
   "cell_type": "code",
   "execution_count": 36,
   "metadata": {},
   "outputs": [],
   "source": [
    "eval_df.to_csv(data_dir / 'default_ques_eval_with_topic.csv', index=False)"
   ]
  },
  {
   "cell_type": "code",
   "execution_count": 44,
   "metadata": {},
   "outputs": [],
   "source": [
    "#merged_df_unique.to_csv(data_dir / 'capstone_final_data_v1.csv', index=False)"
   ]
  }
 ],
 "metadata": {
  "kernelspec": {
   "display_name": "Python 3.9.12 ('.venv': venv)",
   "language": "python",
   "name": "python3"
  },
  "language_info": {
   "codemirror_mode": {
    "name": "ipython",
    "version": 3
   },
   "file_extension": ".py",
   "mimetype": "text/x-python",
   "name": "python",
   "nbconvert_exporter": "python",
   "pygments_lexer": "ipython3",
   "version": "3.9.12"
  },
  "orig_nbformat": 4,
  "vscode": {
   "interpreter": {
    "hash": "4417f8c6e25815638b12b1732e5dad43917d34854e77e0368938d5dc6cf1a5cc"
   }
  }
 },
 "nbformat": 4,
 "nbformat_minor": 2
}
