{
 "cells": [
  {
   "cell_type": "code",
   "execution_count": 1,
   "metadata": {},
   "outputs": [],
   "source": [
    "import warnings\n",
    "warnings.filterwarnings(\"ignore\")\n",
    "\n",
    "import os \n",
    "from pathlib import Path \n",
    "from langchain_ollama import OllamaEmbeddings\n",
    "import pandas as pd\n",
    "import matplotlib.pyplot as plt \n",
    "import numpy as np \n",
    "\n",
    "import faiss\n",
    "from langchain_community.vectorstores import FAISS\n",
    "from langchain_community.docstore.in_memory import InMemoryDocstore\n",
    "from langchain_huggingface import HuggingFaceEmbeddings\n",
    "from langchain_core.documents import Document\n",
    "from langchain_ollama import ChatOllama\n",
    "from langchain_ollama.llms import OllamaLLM\n",
    "from langchain_core.prompts import ChatPromptTemplate\n",
    "from pydantic import BaseModel, Field\n",
    "import torch\n",
    "import re\n",
    "from typing import List\n",
    "from langchain_core.runnables import chain\n",
    "from langchain_core.runnables import RunnablePassthrough\n",
    "import json\n",
    "\n",
    "\n",
    "import gradio as gr\n",
    "from functools import partial\n",
    "from rich.console import Console\n",
    "from rich.style import Style\n",
    "from rich.theme import Theme\n",
    "\n",
    "console = Console()\n",
    "base_style = Style(color=\"#76B900\", bold=True)\n",
    "pprint = partial(console.print, style=base_style)\n",
    "\n",
    "\n",
    "from langserve import RemoteRunnable"
   ]
  },
  {
   "cell_type": "markdown",
   "metadata": {},
   "source": [
    "## Load Dataset from CSV"
   ]
  },
  {
   "cell_type": "code",
   "execution_count": 2,
   "metadata": {},
   "outputs": [
    {
     "data": {
      "text/html": [
       "<div>\n",
       "<style scoped>\n",
       "    .dataframe tbody tr th:only-of-type {\n",
       "        vertical-align: middle;\n",
       "    }\n",
       "\n",
       "    .dataframe tbody tr th {\n",
       "        vertical-align: top;\n",
       "    }\n",
       "\n",
       "    .dataframe thead th {\n",
       "        text-align: right;\n",
       "    }\n",
       "</style>\n",
       "<table border=\"1\" class=\"dataframe\">\n",
       "  <thead>\n",
       "    <tr style=\"text-align: right;\">\n",
       "      <th></th>\n",
       "      <th>Question</th>\n",
       "      <th>Answer</th>\n",
       "    </tr>\n",
       "  </thead>\n",
       "  <tbody>\n",
       "    <tr>\n",
       "      <th>0</th>\n",
       "      <td>What is radiation therapy?</td>\n",
       "      <td>Radiation therapy (also called radiotherapy) i...</td>\n",
       "    </tr>\n",
       "    <tr>\n",
       "      <th>1</th>\n",
       "      <td>How is radiation therapy given?</td>\n",
       "      <td>Radiation therapy can be external beam or inte...</td>\n",
       "    </tr>\n",
       "    <tr>\n",
       "      <th>2</th>\n",
       "      <td>Who gets radiation therapy?</td>\n",
       "      <td>Many people with cancer need treatment with ra...</td>\n",
       "    </tr>\n",
       "    <tr>\n",
       "      <th>3</th>\n",
       "      <td>What does radiation therapy do to cancer cells?</td>\n",
       "      <td>Given in high doses, radiation kills or slows ...</td>\n",
       "    </tr>\n",
       "    <tr>\n",
       "      <th>4</th>\n",
       "      <td>How long does radiation therapy take to work?</td>\n",
       "      <td>Radiation therapy does not kill cancer cells r...</td>\n",
       "    </tr>\n",
       "  </tbody>\n",
       "</table>\n",
       "</div>"
      ],
      "text/plain": [
       "                                          Question  \\\n",
       "0                       What is radiation therapy?   \n",
       "1                  How is radiation therapy given?   \n",
       "2                      Who gets radiation therapy?   \n",
       "3  What does radiation therapy do to cancer cells?   \n",
       "4    How long does radiation therapy take to work?   \n",
       "\n",
       "                                              Answer  \n",
       "0  Radiation therapy (also called radiotherapy) i...  \n",
       "1  Radiation therapy can be external beam or inte...  \n",
       "2  Many people with cancer need treatment with ra...  \n",
       "3  Given in high doses, radiation kills or slows ...  \n",
       "4  Radiation therapy does not kill cancer cells r...  "
      ]
     },
     "execution_count": 2,
     "metadata": {},
     "output_type": "execute_result"
    }
   ],
   "source": [
    "data_dir = Path.cwd().parent / 'data/data_files'\n",
    "file_name = 'prelim_cancer_data.csv'\n",
    "data = pd.read_csv(data_dir / file_name)\n",
    "data.head()"
   ]
  },
  {
   "cell_type": "code",
   "execution_count": 3,
   "metadata": {},
   "outputs": [
    {
     "data": {
      "text/plain": [
       "'How does a Linac work?'"
      ]
     },
     "execution_count": 3,
     "metadata": {},
     "output_type": "execute_result"
    }
   ],
   "source": [
    "data.Question.tolist()[50]"
   ]
  },
  {
   "cell_type": "markdown",
   "metadata": {},
   "source": [
    "## Define Retrieval Utilities"
   ]
  },
  {
   "cell_type": "code",
   "execution_count": 4,
   "metadata": {},
   "outputs": [],
   "source": [
    "def init_embedder(embedder_config, device):\n",
    "    embedder_params = embedder_config['params']\n",
    "    if embedder_config['backend'] == \"HF\":\n",
    "        embedder = HuggingFaceEmbeddings(\n",
    "            model_name=embedder_params['model_name'],\n",
    "            model_kwargs={'device': device},\n",
    "            encode_kwargs=embedder_params.get('encode_kwargs', {})\n",
    "        )\n",
    "        print(f\"Embedder Initialized with {embedder_params['model_name']}\")\n",
    "    elif embedder_config['backend'] == \"OLLAMA\":\n",
    "        embedder = OllamaEmbeddings(model=embedder_params['model_name'])\n",
    "        print(f\"Embedder Initialized with {embedder_params['model_name']}\")\n",
    "    else:\n",
    "        raise NotImplementedError(\"Embedder backend not supported\")\n",
    "    return embedder\n",
    "\n",
    "\n",
    "def init_vectorstore(embedder):\n",
    "    # Create the FAISS index for storing embeddings\n",
    "    embedding_size = len(embedder.embed_query(\"hello world\"))  # Example to get embedding size\n",
    "    index = faiss.IndexFlatL2(embedding_size)\n",
    "    \n",
    "    vector_store = FAISS(\n",
    "        embedding_function=embedder,\n",
    "        index=index,\n",
    "        docstore=InMemoryDocstore(),\n",
    "        index_to_docstore_id={}\n",
    "    )\n",
    "    return vector_store\n",
    "\n",
    "def preprocess_text(text):\n",
    "    \"\"\"\n",
    "    Preprocess the input text for embedding by normalizing and cleaning.\n",
    "    :param text: input string to preprocess\n",
    "    :return: cleaned and preprocessed string\n",
    "    \"\"\"\n",
    "    text = text.lower()  # Convert to lowercase\n",
    "    text = re.sub(r'[^\\w\\s]', '', text)  # Remove punctuation\n",
    "    text = re.sub(r'\\s+', ' ', text).strip()  # Remove extra whitespace\n",
    "    return text\n",
    "\n",
    "def create_documents_from_questions(questions, question_ids):\n",
    "    for index in range(len(questions)):\n",
    "        questions[index] = preprocess_text(questions[index])\n",
    "    \n",
    "    documents = []\n",
    "    for text, doc_id in zip(questions, question_ids):\n",
    "        _ = Document(\n",
    "            page_content=text,\n",
    "            metadata={\"id\" : doc_id}\n",
    "        )\n",
    "        documents.append(_)        \n",
    "    return documents"
   ]
  },
  {
   "cell_type": "markdown",
   "metadata": {},
   "source": [
    "## Create Retrieval Chain"
   ]
  },
  {
   "cell_type": "code",
   "execution_count": 5,
   "metadata": {},
   "outputs": [
    {
     "name": "stdout",
     "output_type": "stream",
     "text": [
      "cuda\n"
     ]
    }
   ],
   "source": [
    "# Define Configs and Settings For Retrieval\n",
    "SCORE_THRESHOLD = 0.5\n",
    "TOPK=3\n",
    "\n",
    "EMBEDDER_CONFIG = {\n",
    "    \"backend\" : \"HF\", \n",
    "    \"params\" : {\n",
    "        \"model_name\" : \"sentence-transformers/all-mpnet-base-v2\",\n",
    "        \"encode_kwargs\" : {'normalize_embeddings': False}\n",
    "    }\n",
    "}\n",
    "\n",
    "device = torch.device(\"cuda\" if torch.cuda.is_available() else 'cpu')\n",
    "print(device)"
   ]
  },
  {
   "cell_type": "code",
   "execution_count": 6,
   "metadata": {},
   "outputs": [
    {
     "name": "stdout",
     "output_type": "stream",
     "text": [
      "Embedder Initialized with sentence-transformers/all-mpnet-base-v2\n"
     ]
    }
   ],
   "source": [
    "# Intialize Embedder and VectorStore\n",
    "embedder = init_embedder(embedder_config=EMBEDDER_CONFIG, device=device)\n",
    "vectorstore = init_vectorstore(embedder)"
   ]
  },
  {
   "cell_type": "code",
   "execution_count": 7,
   "metadata": {},
   "outputs": [
    {
     "name": "stdout",
     "output_type": "stream",
     "text": [
      "137 Documents added to Vector Store\n"
     ]
    }
   ],
   "source": [
    "# Add Documents to VectorStore\n",
    "documents = create_documents_from_questions(data.Question.tolist(), data.index.tolist())\n",
    "vectorstore.add_documents(documents=documents, ids=data.index.tolist())\n",
    "print(f\"{len(documents)} Documents added to Vector Store\")"
   ]
  },
  {
   "cell_type": "code",
   "execution_count": 8,
   "metadata": {},
   "outputs": [],
   "source": [
    "# Mean Similarity Method. We can use other kind of averaging\n",
    "def calculate_mean_similarity(sims):\n",
    "    return np.mean(np.array(sims))\n",
    "\n",
    "def calculate_max_similarity(sims):\n",
    "    return np.max(np.array(sims))\n",
    "\n",
    "# Define Custom Functions as Runnables to use in retrieval chain\n",
    "@chain\n",
    "def retriever(query: dict) -> List[Document]:\n",
    "    \"\"\"Custom Retriever Logic to filter based on SIM THRESHOLD\"\"\"\n",
    "    query = preprocess_text(query.get('query',''))\n",
    "    docs, scores = zip(*vectorstore.similarity_search_with_relevance_scores(query, k=TOPK))\n",
    "    result = []\n",
    "    for doc, score in zip(docs, scores):\n",
    "        if score > SCORE_THRESHOLD:\n",
    "            doc.metadata[\"score\"] = score\n",
    "            result.append(doc)\n",
    "    return result\n",
    "\n",
    "@chain\n",
    "def format_retrieved_docs(documents: List[Document]) -> str:\n",
    "    \"\"\"Context Formatter\"\"\"\n",
    "    docs = []\n",
    "    for doc in documents:\n",
    "        score = doc.metadata.get('score')\n",
    "        doc_index = doc.metadata.get('id')\n",
    "        answer = data.iloc[doc_index].Answer\n",
    "        docs.append((doc.page_content, answer, score))\n",
    "\n",
    "    context_text = \"\\n\".join([f\"Q: {ctx[0]}\\nA: {ctx[1]}\" for ctx in docs])\n",
    "    #mean_sim = calculate_mean_similarity([ctx[2] for ctx in docs])\n",
    "    max_sim = calculate_max_similarity([ctx[2] for ctx in docs])\n",
    "    return {\"context\" : context_text, \"retrieval_score\" : max_sim}"
   ]
  },
  {
   "cell_type": "code",
   "execution_count": 8,
   "metadata": {},
   "outputs": [],
   "source": [
    "ret_chain = retriever | format_retrieved_docs"
   ]
  },
  {
   "cell_type": "markdown",
   "metadata": {},
   "source": [
    "## Create a Chain to fill User's InfoBase"
   ]
  },
  {
   "cell_type": "code",
   "execution_count": 11,
   "metadata": {},
   "outputs": [],
   "source": [
    "from langchain.output_parsers import PydanticOutputParser\n",
    "from langchain.schema.runnable.passthrough import RunnableAssign\n",
    "from langchain_core.output_parsers import StrOutputParser\n",
    "\n",
    "\n",
    "def RExtract(pydantic_class, llm, prompt):\n",
    "    '''\n",
    "    Runnable Extraction module\n",
    "    Returns a knowledge dictionary populated by slot-filling extraction\n",
    "    '''\n",
    "    parser = PydanticOutputParser(pydantic_object=pydantic_class)\n",
    "    instruct_merge = RunnableAssign({'format_instructions' : lambda x: parser.get_format_instructions()})\n",
    "    def preparse(string):\n",
    "        if '{' not in string: string = '{' + string\n",
    "        if '}' not in string: string = string + '}'\n",
    "        string = (string\n",
    "            .replace(\"\\\\_\", \"_\")\n",
    "            .replace(\"\\n\", \" \")\n",
    "            .replace(\"\\]\", \"]\")\n",
    "            .replace(\"\\[\", \"[\")\n",
    "        )\n",
    "        # print(string)  ## Good for diagnostics\n",
    "        return string\n",
    "    return instruct_merge | prompt | llm | preparse | parser\n",
    "\n",
    "class KnowledgeBase(BaseModel):\n",
    "    name: str = Field(default=\"unknown\", description=\"Name of the user, first name and last name\")\n",
    "    age : str = Field(default=\"unknown\", description=\"Age of the user\")\n",
    "    gender: str = Field(default=\"unknown\", description=\"Gender of the user\")\n",
    "    query: str = Field(default=\"unknown\", description=\"Detailed User's Query to answer. It should be framed in Question format.\")\n",
    "    summary: str = Field('unknown', description=\"Running summary of conversation. Update this with new input\")\n",
    "    response: str = Field('unknown', description=\"An ideal response to the user based on their new message\")\n",
    "\n",
    "parser_prompt = ChatPromptTemplate.from_template(\n",
    "    \"You are chatting with a user. The user just responded ('input'). Please update the knowledge base.\"\n",
    "    \"Record your response in the 'response' tag to continue the conversation.\"\n",
    "    \"Do not hallucinate any details, and make sure the knowledge base is not redundant.\"\n",
    "    \"Update the entries frequently to adapt to the conversation flow.\"\n",
    "    \"\\n{format_instructions}\"\n",
    "    \"\\n\\nOLD KNOWLEDGE BASE: {know_base}\"\n",
    "    \"\\n\\nNEW MESSAGE: {input}\"\n",
    "    \"\\n\\nNEW KNOWLEDGE BASE:\"\n",
    ")\n",
    "\n",
    "\n",
    "llm = OllamaLLM(model='llama3.1:70b', temperature=0.4)\n",
    "instruct_llm = llm #| StrOutputParser\n",
    "extractor = RExtract(KnowledgeBase, instruct_llm, parser_prompt)\n",
    "info_update = RunnableAssign({'know_base' : extractor})\n",
    "\n",
    "## Initialize the knowledge base and see what you get\n",
    "state = {'know_base' : KnowledgeBase()}\n",
    "state['input'] = \"What is radiation therapy and how can it be used to treat cancer?\"\n",
    "state = info_update.invoke(state)\n",
    "print(state)"
   ]
  },
  {
   "cell_type": "code",
   "execution_count": 10,
   "metadata": {},
   "outputs": [
    {
     "data": {
      "text/plain": [
       "'unknown'"
      ]
     },
     "execution_count": 10,
     "metadata": {},
     "output_type": "execute_result"
    }
   ],
   "source": [
    "state['know_base'].query"
   ]
  },
  {
   "cell_type": "code",
   "execution_count": 12,
   "metadata": {},
   "outputs": [],
   "source": [
    "@chain\n",
    "def extract_query(state):\n",
    "    return state.get('know_base').query\n",
    "\n",
    "@chain\n",
    "def merge_outputs(ret_results):\n",
    "    return {**ret_results[0], **ret_results[1]}\n",
    "\n",
    "internal_chain = (\n",
    "    info_update\n",
    "    | RunnableAssign({\"query\" : extract_query})\n",
    "    | (lambda x: (x, ret_chain.invoke(x)))\n",
    "    | merge_outputs\n",
    ")"
   ]
  },
  {
   "cell_type": "code",
   "execution_count": 6,
   "metadata": {},
   "outputs": [],
   "source": [
    "internal_chain = RemoteRunnable(\"http://localhost:8000/retrieve\")"
   ]
  },
  {
   "cell_type": "code",
   "execution_count": 7,
   "metadata": {},
   "outputs": [],
   "source": [
    "state = {'know_base' : dict(KnowledgeBase())}\n",
    "state['input'] = \"What is radiation therapy and how can it be used to treat cancer?\"\n",
    "state = internal_chain.invoke(state)"
   ]
  },
  {
   "cell_type": "code",
   "execution_count": 9,
   "metadata": {},
   "outputs": [],
   "source": [
    "state = json.loads(state)"
   ]
  },
  {
   "cell_type": "code",
   "execution_count": 10,
   "metadata": {},
   "outputs": [
    {
     "data": {
      "text/plain": [
       "dict_keys(['know_base', 'input', 'query', 'context', 'retrieval_score'])"
      ]
     },
     "execution_count": 10,
     "metadata": {},
     "output_type": "execute_result"
    }
   ],
   "source": [
    "state.keys()"
   ]
  },
  {
   "cell_type": "code",
   "execution_count": 41,
   "metadata": {},
   "outputs": [],
   "source": [
    "# Implementing LLM as Judge to rate retrieved context according to given query\n",
    "# Data model\n",
    "class GradeDocuments(BaseModel):\n",
    "    \"\"\"Score for relevance check on retrieved documents.\"\"\"\n",
    "\n",
    "    relevancy_score: float = Field(\n",
    "        description=\"Documents are relevant to the question, 0 to 1.\"\n",
    "    )\n",
    "\n",
    "# Prompt\n",
    "system = \"\"\"You are a grader assessing relevance of a retrieved context to a user question. \\n \n",
    "    If the context contains keyword(s) or semantic meaning related to the user question, grade it as relevant. \\n\n",
    "    It does not need to be a stringent test. The goal is to filter out erroneous retrievals. \\n\n",
    "    Give a score between 0 and 1 to indicate whether the context is relevant to question.\\n\n",
    "    If the context is empty, then assign 0 relevancy.\\n\n",
    "    0 means 0 % relevancy and 1 means 100 % relevancy. The score can be anything in the range of 0 and 1.\\n\n",
    "    Use the following scale to assign a score between 0 and 1: \\n\n",
    "    - **1**: The context is highly relevant, directly answering or providing strong support for the question.\\n\n",
    "    - **0**: The context is entirely irrelevant, containing no useful information related to the question\\n\n",
    "    - **0.1 - 0.9**: Partial relevance, where a score closer to **1** means more useful and related context, and a score closer to **0** means less related or only marginally helpful.\\n\n",
    "    {format_instructions}\n",
    "    \"\"\"\n",
    "\n",
    "grade_prompt = ChatPromptTemplate.from_messages(\n",
    "    [\n",
    "        (\"system\", system),\n",
    "        (\"human\", \"Retrieved context: \\n\\n {context} \\n\\n User question: {query}\"),\n",
    "    ]\n",
    ")\n",
    "\n",
    "# LLM with function call\n",
    "grader_llm = OllamaLLM(model='llama3.1:8b', temperature=0)\n",
    "context_grader = RExtract(GradeDocuments, grader_llm, grade_prompt)"
   ]
  },
  {
   "cell_type": "code",
   "execution_count": 24,
   "metadata": {},
   "outputs": [],
   "source": [
    "internal_chain = RemoteRunnable(\"http://localhost:8000/retrieve\")\n",
    "context_grader = RemoteRunnable(\"http://localhost:8000/grade_context\")\n",
    "external_chain = RemoteRunnable(\"http://localhost:8000/chat\")"
   ]
  },
  {
   "cell_type": "code",
   "execution_count": 28,
   "metadata": {},
   "outputs": [],
   "source": [
    "#state = {'know_base' : KnowledgeBase()}\n",
    "state = {'know_base' : dict(KnowledgeBase())}\n",
    "state['input'] = \"What is the time span for radiation therapy to show effects?\"\n",
    "#state['input'] = \"What is the state of feeling during radiation therapy?\"\n",
    "state = json.loads(internal_chain.invoke(state))\n",
    "response = context_grader.invoke(state)"
   ]
  },
  {
   "cell_type": "code",
   "execution_count": 32,
   "metadata": {},
   "outputs": [],
   "source": []
  },
  {
   "cell_type": "code",
   "execution_count": 35,
   "metadata": {},
   "outputs": [],
   "source": [
    "state['summary'] = state['know_base']['summary']\n",
    "state['output'] = \"\""
   ]
  },
  {
   "cell_type": "code",
   "execution_count": 36,
   "metadata": {},
   "outputs": [
    {
     "data": {
      "text/plain": [
       "\"The effects of radiation therapy can vary depending on several factors, such as the type and stage of cancer, the location of the tumor, and the individual's overall health.\\n\\n Generally, patients may start noticing improvements in their symptoms within 2-4 weeks after starting radiation therapy. However, it's essential to note that some people may not experience significant changes until a few months later, while others might see improvements sooner.\\n\\nWould you like me to provide more information on what to expect during and after radiation therapy?\""
      ]
     },
     "execution_count": 36,
     "metadata": {},
     "output_type": "execute_result"
    }
   ],
   "source": [
    "external_chain.invoke(state)"
   ]
  },
  {
   "cell_type": "code",
   "execution_count": 14,
   "metadata": {},
   "outputs": [],
   "source": [
    "response"
   ]
  },
  {
   "cell_type": "code",
   "execution_count": 47,
   "metadata": {},
   "outputs": [
    {
     "data": {
      "text/plain": [
       "0.6203085458796949"
      ]
     },
     "execution_count": 47,
     "metadata": {},
     "output_type": "execute_result"
    }
   ],
   "source": [
    "state['retrieval_score']"
   ]
  },
  {
   "cell_type": "code",
   "execution_count": 40,
   "metadata": {},
   "outputs": [],
   "source": [
    "state['output'] = \"\""
   ]
  },
  {
   "cell_type": "code",
   "execution_count": 49,
   "metadata": {},
   "outputs": [],
   "source": [
    "external_prompt = ChatPromptTemplate.from_messages([\n",
    "    (\"system\", (\n",
    "        \"You are a chatbot for NU Medicine, and you are providing users cancer treatment assistance.\"\n",
    "        \" Please chat with them! Stay concise and clear!\"\n",
    "        \" Your running knowledge base is: {know_base}.\"\n",
    "        \" This is for you only; Do not mention it!\"\n",
    "        \" \\nUsing that, we retrieved the following: {context}\\n\"\n",
    "        \"\\nHere is the query that user want to get answered: {query}\\n\"\n",
    "        \"\\nKeep asking follow up questions, until user provides basic info like name, age and gender\\n\"\n",
    "        \"\\nModerate your tone according to user's age and gender\\n\"\n",
    "        \"If they provide info and the retrieval fails, ask to confirm their name, age, gender and query\"\n",
    "        \" Do not ask them any other personal info.\"\n",
    "    )),\n",
    "    (\"assistant\", \"{output}\"),\n",
    "    (\"user\", \"{input}\"),\n",
    "])\n",
    "\n",
    "external_chain = (\n",
    "                external_prompt \n",
    "                | OllamaLLM(model='llama3.1:70b', temperature=0.4)\n",
    "                )"
   ]
  },
  {
   "cell_type": "code",
   "execution_count": 58,
   "metadata": {},
   "outputs": [
    {
     "data": {
      "text/plain": [
       "\"Hello! I'd be happy to help you with your question about radiation therapy.\\n\\nRadiation therapy, also known as radiotherapy, is a treatment that uses high-energy particles or waves, such as X-rays, gamma rays, electron beams, or protons, to destroy or damage cancer cells. It can be used to treat various types of cancer, including breast, lung, prostate, and brain cancers, among others.\\n\\nBefore I provide more information, could you please tell me a bit about yourself? What's your name, age, and gender? This will help me tailor my response to your specific needs and concerns.\""
      ]
     },
     "execution_count": 58,
     "metadata": {},
     "output_type": "execute_result"
    }
   ],
   "source": [
    "external_chain.invoke(state)"
   ]
  },
  {
   "cell_type": "code",
   "execution_count": 56,
   "metadata": {},
   "outputs": [],
   "source": [
    "state = {'know_base' : KnowledgeBase()}\n",
    "\n",
    "def chat_gen(message, history=[], return_buffer=True):\n",
    "\n",
    "    ## Pulling in, updating, and printing the state\n",
    "    global state\n",
    "    state['input'] = message\n",
    "    state['history'] = history\n",
    "    state['output'] = \"\" if not history else history[-1][1]\n",
    "\n",
    "    ## Generating the new state from the internal chain\n",
    "    state = internal_chain.invoke(state)\n",
    "    #print(\"State after chain run:\")\n",
    "    #pprint({k:v for k,v in state.items() if k != \"history\"})\n",
    "    \n",
    "    ## Streaming the results\n",
    "    buffer = \"\"\n",
    "    is_first_token = False\n",
    "    retrieval_score = state.get('retrieval_score')\n",
    "    relevancy_socre = context_grader.invoke(state).relevancy_score\n",
    "    for token in external_chain.stream(state):\n",
    "        if not is_first_token:\n",
    "            is_first_token = True\n",
    "            token = \"RETRIEVAL SIM : {:.3f}\\n RELEVANCY_SCORE : {:.3f}\\n\".format(retrieval_score, relevancy_socre) + token\n",
    "        buffer += token\n",
    "        yield buffer if return_buffer else token\n",
    "    #yield \"RETRIEVAL SIM : {:.3f}\\n RELEVANCY_SCORE : {:.3f}\".format(retrieval_score, relevancy_socre)\n",
    "\n",
    "    \n",
    "\n",
    "def queue_fake_streaming_gradio(chat_stream, history = [], max_questions=8):\n",
    "\n",
    "    ## Mimic of the gradio initialization routine, where a set of starter messages can be printed off\n",
    "    for human_msg, agent_msg in history:\n",
    "        if human_msg: print(\"\\n[ Human ]:\", human_msg)\n",
    "        if agent_msg: print(\"\\n[ Agent ]:\", agent_msg)\n",
    "\n",
    "    ## Mimic of the gradio loop with an initial message from the agent.\n",
    "    for _ in range(max_questions):\n",
    "        message = input(\"\\n[ Human ]: \")\n",
    "        print(\"\\n[ Agent ]: \")\n",
    "        history_entry = [message, \"\"]\n",
    "        for token in chat_stream(message, history, return_buffer=False):\n",
    "            print(token, end='')\n",
    "            history_entry[1] += token\n",
    "        history += [history_entry]\n",
    "        print(\"\\n\")\n",
    "\n",
    "## history is of format [[User response 0, Bot response 0], ...]\n",
    "chat_history = [[None, \"Hello! I'm your NU Medicine Agent! How can I help you?\"]]\n",
    "\n",
    "## Simulating the queueing of a streaming gradio interface, using python input\n",
    "# queue_fake_streaming_gradio(\n",
    "#     chat_stream = chat_gen,\n",
    "#     history = chat_history\n",
    "# )"
   ]
  },
  {
   "cell_type": "code",
   "execution_count": 8,
   "metadata": {},
   "outputs": [
    {
     "name": "stdout",
     "output_type": "stream",
     "text": [
      "dict_keys(['context', 'query'])\n"
     ]
    }
   ],
   "source": [
    "## Test \n",
    "grader_input = {'context': 'Q: what are the possible side effects risks and complications of radiation therapy in lung cancer\\nA: overall radiotherapy is a local treatment any side effects usually happen in the parts of the body where radiation passes through radiotherapy usually does not damage normal organs outside the path of the treatment beam most patients tire easily during their course of radiation treatment this fatigue occurs two to three weeks after treatment starts and gradually increases as treatment continues it may become severe and seriously limit your ability to engage in normal daily activities typically fatigue lessens one to two months after radiotherapy is completed if you experience fatigue it is important to get enough rest however at the same time your doctor may suggest that you stay as active as possible some patients experience hair loss on the chest included in the radiation field depending on how much radiation is delivered this may be temporary or permanent skin irritation is common after a few weeks of radiation therapy the affected area may be red dry tender and itchy this reaction can become quite severe during a long course of treatment it helps to keep the skin clean with gentle soap and warm water to dry it well and to avoid very hot water while bathing sunscreen should be used when skin in the treated area is exposed to sunlight do not use perfumes cosmetics or deodorants in the treatment area after daily treatments you may apply an unscented cream or lotion temporary loss of appetite is a possibility esophagitis or inflammation of the esophagus the tube that carries food from the mouth to the stomach is common if radiotherapy is directed at the lymph nodes in the central chest or if the tumor is near the esophagus this condition can be severe the esophagus is very sensitive to radiation and the symptoms are worse in patients who also receive chemotherapy esophagitis can make it difficult to swallow and some patients need intravenous iv pain medication or fluids to get through the full course of radiation treatment some people experience esophagitis as the sensation of a lump or discomfort before it becomes overtly painful some foods such as spicy or acidic foods or bread feel worse than others it is important to remember that although certain foods may cause pain with swallowing they will not cause damage avoid foods that cause pain until about one month after the final day of radiation the inflammation generally plateaus toward the end of treatment and starts to resolve within two to three weeks after treatment in most patients an inflammation of the lungs called radiation pneumonitis may develop three to six months after radiotherapy is over it causes coughing and shortness of breath as well as fever in most cases it calls for no specific treatment and gets better within two to four weeks it can occasionally happen earlier and require steroids andor oxygen decrease in a specific type of white blood cell called lymphocytes is another side effect of radiotherapy\\nQ: what does radiation therapy do to cancer cells\\nA: given in high doses radiation kills or slows the growth of cancer cells radiation therapy is used to 1 treat cancer radiation can be used to cure cancer to prevent it from returning or to stop or slow its growth 2 reduce symptoms when a cure is not possible radiation may be used to treat pain and other problems caused by the cancer tumor or it can prevent problems that may be caused by a growing tumor such as blindness or loss of bowel and bladder control\\nQ: how effective is modern radiation treatment of lung cancer\\nA: it is extremely important to remember that inoperable does not mean incurable when it comes to lung cancer in fact an increasing number of patients are being treated with a nonsurgical approach across all stages of this disease treatment effectiveness depends on the stage of disease in early stage inoperable disease that is treated with radiotherapy alone control of the local disease is typical in more advanced disease a combination of chemotherapy and radiation is delivered with curative intent cure rates are lower but still possible with disease spread to the lymph nodes within the chest the medical or radiation oncologist may propose a combination of chemotherapy and radiation therapy for a patient who is otherwise well when cure is not a possibility doctors recommend palliative treatment this is the use of medications chemotherapy radiation therapy or other measures to relieve symptoms of lung cancer without eliminating the tumor the doctor will use smaller doses of radiation therapy to avoid side effects at some point if you and your oncologist or primary care physician agree that active treatment is no longer advisable hospice care can provide comfort and support pain relief is a very important part of treating lung cancer although many effective treatments are available and there are devices for delivering medication on demand without overdosing many cancer patients still do not receive adequate pain relief when the needs of the patient are clearly expressed doctors can better provide appropriate care\\nQ: what are possible side effects risks and complications of radiation therapy in breast cancer\\nA: there are usually no immediate side effects from each radiation treatment given to the breast patients do not develop nausea or hair loss on the head from radiation therapy to the breast most patients develop mild fatigue that builds up gradually over the course of therapy this slowly goes away one to two months following the radiation therapy most patients develop dull aches or sharp shooting pains in the breast that may last for a few seconds or minutes it is rare for patients to need any medication for this the most common side effect needing attention is skin reaction most patients develop reddening dryness and itching of the skin after a few weeks some patients develop substantial irritation skin care recommendations include keeping the skin clean using gentle soap and warm but not hot water avoiding extreme temperatures while bathing avoiding trauma to the skin and sun exposure use clothing as a barrier or a sunscreen with at least spf 30 avoiding shaving the treatment area with a razor blade use an electric razor if necessary avoiding use of perfumes cosmetics aftershave or deodorants in the treatment area use cornstarch with or without baking soda in place of deodorants using only recommended unscented creams or lotions after daily treatment some patients develop a sunburnlike reaction with blistering and peeling of the skin called moist desquamation this usually occurs in the fold under the breast or in the fold between the breast and the arm or sometimes in the area given a radiation boost most people with a limited area of moist desquamation can continue treatment without interruption sometimes topical medications those applied to the surface of the body are prescribed when treatment must be interrupted the skin usually heals enough to allow radiation to be resumed in five to seven days skin reactions usually heal completely within a few weeks of completing radiotherapy minor complications include slight swelling of the breast during radiotherapy this usually goes away within six to 12 months the skin becomes darker during the course of radiotherapy similar to tanning from the sun in most cases this also fades gradually over six to 12 months most women will have aches or pains from time to time in the treated breast or the muscles surrounding the breast even years after treatment the reason why this happens is not clear however these pains are harmless although annoying they are not usually a sign that the cancer is reappearing rarely patients may develop a rib fracture years following treatment this occurs in less than one percent of patients treated by modern approaches these heal slowly by themselves more serious complications include radiation therapy given to the axillary lymph nodes can increase the risk of patients developing arm swelling lymphedema following axillary armpit dissection radiation therapy given to the axillary lymph nodes may rarely cause numbness tingling or even pain and loss of strength in the hand and arm years after treatment some patients develop radiation pneumonitis a lung reaction that causes a cough shortness of breath and fevers three to nine months after completing treatment fortunately it is usually mild enough that no specific treatment is needed and it goes away within two to four weeks with no longterm complications radiotherapy may damage the heart fortunately modern radiation techniques treat much less of the heart than treatments used in the past current studies have found no increased risk of serious heart disease in patients treated with modern techniques even 10 to 20 years after radiotherapy treatment was given however there is still some uncertainty about the risks of radiation causing heart disease for individuals who smoke or have preexisting heart disease or for those who receive certain chemotherapy drugs it is likely that such risks will also be found to be very small fortunately newer radiation techniques treat patients in the prone position patient lying on their stomach pulling the breast away from the heart or use deep inspiration technique taking a deep breath and pulling the chest away from the heart during radiation therapy both techniques may further reduce radiation related heart injury women age 45 or younger at the time of treatment may have a slightly increased risk by a few percent at most of developing cancer of the other breast with time compared with the risk they would have if they did not undergo radiation there is a very small risk perhaps one in 1000 individuals that cancers may develop five 10 20 or more years later in the skin muscle bone or lung directly in the area of treatment patients may rarely develop a breakdown of the skin or such severe pain in the breast that surgery is needed for treatment\\nQ: is radiation therapy used with other types of cancer treatment\\nA: yes radiation therapy is often used with other cancer treatments here are some examples 1 radiation therapy and surgery radiation may be given before during or after surgery doctors may use radiation to shrink the size of the cancer before surgery or they may use radiation after surgery to kill any cancer cells that remain sometimes radiation therapy is given during surgery so that it goes straight to the cancer without passing through the skin radiation therapy given during surgery is called intraoperative radiation 2 radiation therapy chemotherapy and immunotherapy radiation may be given before during or after chemotherapy and immunotherapy before or during these other treatments radiation therapy can shrink the cancer so that the treatments work better after treatment radiation can be used to kill any cancer cells that remain\\nQ: what are possible side effects risks and complications of radiation therapy in lymphoma cancer\\nA: while side effects vary from person to person some are typical radiation treatments usually have no immediate side effects most patients have mild fatigue that builds up gradually over the course of therapy this slowly goes away one to two months after radiation therapy some patients have some reddening dryness and itchy skin after a few weeks skin reactions usually heal completely within a few weeks of completing treatment if you have radiation to the abdomen or pelvis diarrhea frequent bowel movements or appetite loss may occur medication can ease these side effects generally side effects gradually stop once treatment is complete\\nQ: what are possible side effects risks and complications of radiation therapy in brain cancer\\nA: the side effects of radiation therapy to the brain may not occur until two to three weeks after the start of your therapy many people experience hair loss but the amount varies from person to person hair may grow back once therapy is finished skin irritation is the second most frequently reported side effect the skin around your ears and scalp may become dry itchy red or tender do not try to treat this side effect on your own seek professionalism medical treatment as soon as it occurs fatigue is another possible side effect the best way to fight fatigue is to get on a daily exercise regimen that is tolerable and sustainable eat a healthy diet and rely on friends and family for support your normal energy levels should return about six weeks after you finish your therapy fatigue may be the worst two to three weeks after you complete prolonged multiweek radiation treatment edema swelling of the brain is also a common side effect tell your oncologist if you have a headache or a feeling of pressure the doctor may prescribe medications to help reduce brain swelling prevent seizures or control pain if you receive chemotherapy and radiation therapy at the same time you may experience more severe side effects your doctor can suggest ways to ease these symptoms other possible side effects include hearing problems nausea vomiting loss of appetite memory or speech problems headaches radiation is a powerful weapon against cancer cells but sometimes it kills healthy brain tissue as well this severe side effect is called radiation necrosis necrosis a late effect of high doses of radiation can cause headaches seizures or even death in a small number of cases this can occur six months to a few years after treatment however there is less risk of necrosis today because of newer targeted radiation therapies and the emergence of powerful imaging brain mapping and information technologies other complications include neurologic deficits this usually depends on the area of the brain being treated cognitive problems seizures headaches return of tumor growth in children radiation may damage the pituitary gland and other parts of the brain this could cause learning problems or slow growth and development additionally radiation during childhood increases the risk of developing tumors later in life researchers are studying chemotherapy as an alternative to radiation therapy in children with brain tumors\\nQ: what does radiation therapy do to healthy cells\\nA: radiation not only kills or slows the growth of cancer cells it can also affect nearby healthy cells the healthy cells almost always recover after treatment is over but sometimes people may have side effects that are severe or do not get better other side effects may show up months or years after radiation therapy is over these are called late side effects doctors try to protect healthy cells during treatment by 1 using as low a dose of radiation as possible the radiation dose is balanced between being high enough to kill cancer cells yet low enough to limit damage to healthy cells 2 spreading out treatment over time you may get radiation therapy once a day or in smaller doses twice a day for several weeks spreading out the radiation dose allows normal cells to recover while cancer cells die 3 aiming radiation at a precise part of your body some types of radiation therapy allow your doctor to aim high doses of radiation at your cancer while reducing radiation to nearby healthy tissue these techniques use a computer to deliver precise radiation doses to a cancer tumor or to specific areas within the tumor\\nQ: what are possible side effects risks and complications of radiation therapy in prostate cancer\\nA: initially most patients do not have side effects radiation side effects build with time they tend to be worse toward the end of a week and better after the weekend break as radiation treatment goes on it may cause you to feel tired while adequate rest is important doctors will usually advise you to stay as active as you can you may have some rectal irritation such as bowel urgency discomfort diarrhea andor frequent and uncomfortable urination also skin in the treated area may become dry redness tenderness or hair loss is unusual radiation therapy can cause impotence in some men at a similar rate as nervesparing prostatectomy typically radiation induced impotence will respond to medications to improve erectile function there is also a small risk of late bladder or rectal problems with radiation these may appear one to three years after radiation therapy your radiation oncologist will monitor you for late complications and check your psa in your followup appointments\\nQ: what are the possible side effects risks and complications of radiation therapy in colorectal cancer cancer\\nA: side effects that develop during treatment vary from person to person however some side effects are typical there are usually no immediate side effects from each radiation treatment most patients gradually develop mild fatigue over the course of therapy this slowly goes away one to two months following treatment some patients develop some redness dryness and itching of the skin after a few weeks other patients develop substantial irritation skin reactions usually heal completely within a few weeks of completing treatment diarrhea frequent bowel movements or appetite loss is likely to occur at some point during the course of treatment generally side effects stop gradually once treatment ceases but bowel function may remain different from what it was before the disease started', 'query': 'What are the benefits and drawbacks of radiotherapy in cancer treatment?'}\n",
    "# grader_input = {\n",
    "#     \"context\" : \"\",\n",
    "#     \"query\" : \"What are the benefits and drawbacks of radiotherapy in cancer treatment?\"\n",
    "\n",
    "# }\n",
    "print(grader_input.keys())\n",
    "\n",
    "\n",
    "class GradeDocuments(BaseModel):\n",
    "    \"\"\"Score for relevance check on retrieved documents.\"\"\"\n",
    "    relevancy_score: float = Field(\n",
    "        description=\"Documents are relevant to the question, 0 to 1.\"\n",
    "    )\n",
    "\n",
    "# Prompt\n",
    "system = \"\"\"You are a grader assessing relevance of a retrieved context to a user question. \\n \n",
    "    If the context contains keyword(s) or semantic meaning related to the user question, grade it as relevant. \\n\n",
    "    It does not need to be a stringent test. The goal is to filter out erroneous retrievals. \\n\n",
    "    Give a score between 0 and 1 to indicate whether the context is relevant to question.\\n\n",
    "    If the context is empty, then assign 0 relevancy.\\n\n",
    "    0 means 0 % relevancy and 1 means 100 % relevancy. The score can be anything in the range of 0 and 1.\\n\n",
    "    Use the following scale to assign a score between 0 and 1: \\n\n",
    "    - **1**: The context is highly relevant, directly answering or providing strong support for the question.\\n\n",
    "    - **0**: The context is entirely irrelevant, containing no useful information related to the question\\n\n",
    "    - **0.1 - 0.9**: Partial relevance, where a score closer to **1** means more useful and related context, and a score closer to **0** means less related or only marginally helpful.\\n\n",
    "    \"\"\"\n",
    "\n",
    "grade_prompt = ChatPromptTemplate.from_messages(\n",
    "    [\n",
    "        (\"system\", system),\n",
    "        (\"human\", \"Retrieved context: \\n\\n {context} \\n\\n User question: {query}\"),\n",
    "    ]\n",
    ")\n",
    "\n",
    "# LLM with function call\n",
    "grader_llm = ChatOllama(model='llama3.1:8b', temperature=0.4).with_structured_output(GradeDocuments)\n",
    "context_grader = grade_prompt | grader_llm"
   ]
  },
  {
   "cell_type": "code",
   "execution_count": 9,
   "metadata": {},
   "outputs": [
    {
     "ename": "AttributeError",
     "evalue": "'NoneType' object has no attribute 'relevancy_score'",
     "output_type": "error",
     "traceback": [
      "\u001b[0;31m---------------------------------------------------------------------------\u001b[0m",
      "\u001b[0;31mAttributeError\u001b[0m                            Traceback (most recent call last)",
      "Cell \u001b[0;32mIn[9], line 1\u001b[0m\n\u001b[0;32m----> 1\u001b[0m \u001b[39mprint\u001b[39m(context_grader\u001b[39m.\u001b[39;49minvoke(grader_input)\u001b[39m.\u001b[39;49mrelevancy_score)\n",
      "\u001b[0;31mAttributeError\u001b[0m: 'NoneType' object has no attribute 'relevancy_score'"
     ]
    }
   ],
   "source": [
    "#print(context_grader.invoke(grader_input).relevancy_score)"
   ]
  },
  {
   "cell_type": "code",
   "execution_count": 57,
   "metadata": {},
   "outputs": [
    {
     "name": "stdout",
     "output_type": "stream",
     "text": [
      "Running on local URL:  http://127.0.0.1:7860\n"
     ]
    },
    {
     "name": "stderr",
     "output_type": "stream",
     "text": [
      "huggingface/tokenizers: The current process just got forked, after parallelism has already been used. Disabling parallelism to avoid deadlocks...\n",
      "To disable this warning, you can either:\n",
      "\t- Avoid using `tokenizers` before the fork if possible\n",
      "\t- Explicitly set the environment variable TOKENIZERS_PARALLELISM=(true | false)\n"
     ]
    },
    {
     "name": "stdout",
     "output_type": "stream",
     "text": [
      "Running on public URL: https://9c21802d8cf5463b1d.gradio.live\n",
      "\n",
      "This share link expires in 72 hours. For free permanent hosting and GPU upgrades, run `gradio deploy` from Terminal to deploy to Spaces (https://huggingface.co/spaces)\n"
     ]
    },
    {
     "data": {
      "text/html": [
       "<div><iframe src=\"https://9c21802d8cf5463b1d.gradio.live\" width=\"100%\" height=\"500\" allow=\"autoplay; camera; microphone; clipboard-read; clipboard-write;\" frameborder=\"0\" allowfullscreen></iframe></div>"
      ],
      "text/plain": [
       "<IPython.core.display.HTML object>"
      ]
     },
     "metadata": {},
     "output_type": "display_data"
    },
    {
     "name": "stdout",
     "output_type": "stream",
     "text": [
      "Keyboard interruption in main thread... closing server.\n",
      "Killing tunnel 127.0.0.1:7860 <> https://9c21802d8cf5463b1d.gradio.live\n"
     ]
    }
   ],
   "source": [
    "state = {'know_base' : KnowledgeBase()}\n",
    "\n",
    "chatbot = gr.Chatbot(value=[[None, \"Hello! I'm your NU Medicine Agent! How can I help you?\"]])\n",
    "demo = gr.ChatInterface(chat_gen, chatbot=chatbot).queue().launch(debug=True, share=True)"
   ]
  }
 ],
 "metadata": {
  "kernelspec": {
   "display_name": "Python 3.9.12 ('.venv': venv)",
   "language": "python",
   "name": "python3"
  },
  "language_info": {
   "codemirror_mode": {
    "name": "ipython",
    "version": 3
   },
   "file_extension": ".py",
   "mimetype": "text/x-python",
   "name": "python",
   "nbconvert_exporter": "python",
   "pygments_lexer": "ipython3",
   "version": "3.9.12"
  },
  "orig_nbformat": 4,
  "vscode": {
   "interpreter": {
    "hash": "4417f8c6e25815638b12b1732e5dad43917d34854e77e0368938d5dc6cf1a5cc"
   }
  }
 },
 "nbformat": 4,
 "nbformat_minor": 2
}
