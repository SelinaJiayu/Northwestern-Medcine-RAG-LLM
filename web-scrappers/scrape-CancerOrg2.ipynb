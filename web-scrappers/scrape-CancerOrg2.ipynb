{
 "cells": [
  {
   "cell_type": "code",
   "execution_count": 8,
   "metadata": {},
   "outputs": [],
   "source": [
    "import requests\n",
    "from bs4 import BeautifulSoup\n",
    "import pandas as pd\n",
    "from urllib.parse import urlparse\n",
    "import re"
   ]
  },
  {
   "cell_type": "code",
   "execution_count": 9,
   "metadata": {},
   "outputs": [],
   "source": [
    "def scrape_data(url):\n",
    "    # Send a request to the URL\n",
    "    response = requests.get(url)\n",
    "    soup = BeautifulSoup(response.content, 'html.parser')\n",
    "\n",
    "    data = []\n",
    "    \n",
    "    # Find all the headings and their corresponding paragraphs\n",
    "    headings = soup.find_all(['h2', 'h3', 'h4'])  # Adjust the heading tags as per the structure of the website\n",
    "    for heading in headings:\n",
    "        # Find the next sibling which is a paragraph or series of paragraphs\n",
    "        next_sibling = heading.find_next_sibling()\n",
    "        answer = ''\n",
    "        \n",
    "        # Collect all the text within paragraphs until we reach another heading\n",
    "        while next_sibling and next_sibling.name not in ['h2', 'h3', 'h4']:\n",
    "            if next_sibling.name == 'p':\n",
    "                answer += next_sibling.get_text(strip=True) + \" \"\n",
    "            next_sibling = next_sibling.find_next_sibling()\n",
    "        \n",
    "        # Append the question and the corresponding answer to the data list\n",
    "        data.append({\n",
    "            'Question': heading.get_text(strip=True),\n",
    "            'Answer': answer.strip()\n",
    "        })\n",
    "    \n",
    "    return data"
   ]
  },
  {
   "cell_type": "code",
   "execution_count": 10,
   "metadata": {},
   "outputs": [],
   "source": [
    "def create_filename_from_url(url):\n",
    "    # Remove special characters and limit the filename length\n",
    "    filename = re.sub(r'[^\\w]', '_', url)[:100] + '.csv'\n",
    "    return filename"
   ]
  },
  {
   "cell_type": "code",
   "execution_count": 11,
   "metadata": {},
   "outputs": [],
   "source": [
    "def scrape_multiple_sites(url_list):\n",
    "    for url in url_list:\n",
    "        try:\n",
    "            data = scrape_data(url)\n",
    "            df = pd.DataFrame(data)\n",
    "            \n",
    "            # Create a filename based on the URL\n",
    "            output_file = create_filename_from_url(url)\n",
    "            \n",
    "            # Save the data into a separate CSV file\n",
    "            df.to_csv(output_file, index=False)\n",
    "            print(f\"Data from {url} saved to {output_file}\")\n",
    "        except Exception as e:\n",
    "            print(f\"Error scraping {url}: {e}\")"
   ]
  },
  {
   "cell_type": "code",
   "execution_count": 12,
   "metadata": {},
   "outputs": [],
   "source": [
    "url_list = [\n",
    "    \"https://www.cancer.org/cancer/managing-cancer/treatment-types/radiation/external-beam-radiation-therapy.html\",\n",
    "    \"https://www.cancer.org/cancer/managing-cancer/treatment-types/radiation/internal-radiation-therapy-brachytherapy.html\",\n",
    "    \"https://www.cancer.org/cancer/managing-cancer/treatment-types/radiation/effects-on-different-parts-of-body.html\",\n",
    "    \"https://www.cancer.org/cancer/managing-cancer/treatment-types/radiation/safety.html\"\n",
    "]"
   ]
  },
  {
   "cell_type": "code",
   "execution_count": 13,
   "metadata": {},
   "outputs": [
    {
     "name": "stdout",
     "output_type": "stream",
     "text": [
      "Data from https://www.cancer.org/cancer/managing-cancer/treatment-types/radiation/external-beam-radiation-therapy.html saved to https___www_cancer_org_cancer_managing_cancer_treatment_types_radiation_external_beam_radiation_ther.csv\n",
      "Data from https://www.cancer.org/cancer/managing-cancer/treatment-types/radiation/internal-radiation-therapy-brachytherapy.html saved to https___www_cancer_org_cancer_managing_cancer_treatment_types_radiation_internal_radiation_therapy_b.csv\n",
      "Data from https://www.cancer.org/cancer/managing-cancer/treatment-types/radiation/effects-on-different-parts-of-body.html saved to https___www_cancer_org_cancer_managing_cancer_treatment_types_radiation_effects_on_different_parts_o.csv\n",
      "Data from https://www.cancer.org/cancer/managing-cancer/treatment-types/radiation/safety.html saved to https___www_cancer_org_cancer_managing_cancer_treatment_types_radiation_safety_html.csv\n"
     ]
    }
   ],
   "source": [
    "scrape_multiple_sites(url_list)"
   ]
  }
 ],
 "metadata": {
  "kernelspec": {
   "display_name": "Python 3",
   "language": "python",
   "name": "python3"
  },
  "language_info": {
   "codemirror_mode": {
    "name": "ipython",
    "version": 3
   },
   "file_extension": ".py",
   "mimetype": "text/x-python",
   "name": "python",
   "nbconvert_exporter": "python",
   "pygments_lexer": "ipython3",
   "version": "3.10.11"
  }
 },
 "nbformat": 4,
 "nbformat_minor": 2
}
